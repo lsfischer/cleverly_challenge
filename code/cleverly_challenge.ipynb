{
 "cells": [
  {
   "cell_type": "markdown",
   "metadata": {},
   "source": [
    "# Cleverly Challenge\n",
    "\n",
    "This works as my submission of the cleverly challenge.\n",
    "The challenge consists in the [Amazon products review dataset](http://jmcauley.ucsd.edu/data/amazon/) (Clothing, Shoes and Jewlry)\n",
    "\n",
    "This dataset consists 278677 reviews about these types of items where each row in the dataset has the followng information:\n",
    "- reviewrID - ID of the reviewer (39387 unique values)\n",
    "- asin - ID of the product (23033 unique values)\n",
    "- reviewerName - name of the reviewer\n",
    "- helpful - a tuple containing the number of \"Yes\" votes, and the total number of votes\n",
    "- reviewText - The main body text of the review\n",
    "- overall - The rating the user gave the product\n",
    "- summary - A short summary of the review\n",
    "- UnixReviewTime - Unix timestamp of the review\n",
    "- reviewTime - Time of the review (raw)\n",
    "\n",
    "## Importante: \n",
    "- Hugging faces transformers requires TF 2.0 or pytorch\n",
    "- Tambem preciso de fazer aquilo de fazer download das cenas do nltk\n",
    "`import nltk; nltk.download('stopwords')`\n",
    "\n",
    "Ver quais é que são as palavras mais frequentes nem perguntas uteis (e em perguntas que tenham tipo rating de 5) (lembrar de tirar stopwords, fazer lemmantization, stemming, etc)\n",
    "    Posso fazer um wordcloud disto por exemplo\n",
    "    Ver também com o TF-IDF para conseguir perceber a \"novelty\" dessas palavras\n",
    "    \n",
    "Questions:\n",
    "\n",
    "Is there a correlation between rating of the product and helpfulness of review?\n",
    "    Aqui posso tentar 3 coisas:\n",
    "        - Tentar ver isto tambem com anova ? https://scikit-learn.org/stable/modules/feature_selection.html#univariate-feature-selection\n",
    "        \n",
    "**Procurar most rare term (COM O TF-IDF ??)**"
   ]
  },
  {
   "cell_type": "code",
   "execution_count": 17,
   "metadata": {
    "scrolled": true
   },
   "outputs": [
    {
     "name": "stdout",
     "output_type": "stream",
     "text": [
      "Collecting wordcloud\n",
      "  Downloading https://files.pythonhosted.org/packages/96/36/f712ec19c6e253d27c5cae0d45a4a465ebb5ccf0cb26887a6a3127d13769/wordcloud-1.6.0-cp37-cp37m-win_amd64.whl (153kB)\n",
      "Requirement already satisfied: numpy>=1.6.1 in c:\\users\\lsfischer\\appdata\\local\\continuum2\\envs\\tensorflow_env\\lib\\site-packages (from wordcloud) (1.18.1)\n",
      "Collecting pillow\n",
      "  Downloading https://files.pythonhosted.org/packages/88/6b/66f502b5ea615f69433ae1e23ec786b2cdadbe41a5cfb1e1fabb4f9c6ce9/Pillow-7.0.0-cp37-cp37m-win_amd64.whl (2.0MB)\n",
      "Requirement already satisfied: matplotlib in c:\\users\\lsfischer\\appdata\\local\\continuum2\\envs\\tensorflow_env\\lib\\site-packages (from wordcloud) (3.1.2)\n",
      "Requirement already satisfied: pyparsing!=2.0.4,!=2.1.2,!=2.1.6,>=2.0.1 in c:\\users\\lsfischer\\appdata\\local\\continuum2\\envs\\tensorflow_env\\lib\\site-packages (from matplotlib->wordcloud) (2.4.6)\n",
      "Requirement already satisfied: cycler>=0.10 in c:\\users\\lsfischer\\appdata\\local\\continuum2\\envs\\tensorflow_env\\lib\\site-packages (from matplotlib->wordcloud) (0.10.0)\n",
      "Requirement already satisfied: kiwisolver>=1.0.1 in c:\\users\\lsfischer\\appdata\\local\\continuum2\\envs\\tensorflow_env\\lib\\site-packages (from matplotlib->wordcloud) (1.1.0)\n",
      "Requirement already satisfied: python-dateutil>=2.1 in c:\\users\\lsfischer\\appdata\\local\\continuum2\\envs\\tensorflow_env\\lib\\site-packages (from matplotlib->wordcloud) (2.8.1)\n",
      "Requirement already satisfied: six in c:\\users\\lsfischer\\appdata\\local\\continuum2\\envs\\tensorflow_env\\lib\\site-packages (from cycler>=0.10->matplotlib->wordcloud) (1.13.0)\n",
      "Requirement already satisfied: setuptools in c:\\users\\lsfischer\\appdata\\local\\continuum2\\envs\\tensorflow_env\\lib\\site-packages (from kiwisolver>=1.0.1->matplotlib->wordcloud) (45.0.0)\n",
      "Installing collected packages: pillow, wordcloud\n",
      "Successfully installed pillow-7.0.0 wordcloud-1.6.0\n"
     ]
    }
   ],
   "source": [
    "# Install HuggingFace's transformer packages to use DistilBert\n",
    "#!pip install transformers\n",
    "#!pip install tensorflow\n",
    "#!pip install torch\n",
    "#!pip install wordcloud\n",
    "#import nltk\n",
    "#nltk.download('stopwords')\n",
    "#nltk.download('punkt')"
   ]
  },
  {
   "cell_type": "code",
   "execution_count": 48,
   "metadata": {},
   "outputs": [
    {
     "name": "stdout",
     "output_type": "stream",
     "text": [
      "(278677, 9)\n"
     ]
    },
    {
     "data": {
      "text/html": [
       "<div>\n",
       "<style scoped>\n",
       "    .dataframe tbody tr th:only-of-type {\n",
       "        vertical-align: middle;\n",
       "    }\n",
       "\n",
       "    .dataframe tbody tr th {\n",
       "        vertical-align: top;\n",
       "    }\n",
       "\n",
       "    .dataframe thead th {\n",
       "        text-align: right;\n",
       "    }\n",
       "</style>\n",
       "<table border=\"1\" class=\"dataframe\">\n",
       "  <thead>\n",
       "    <tr style=\"text-align: right;\">\n",
       "      <th></th>\n",
       "      <th>asin</th>\n",
       "      <th>helpful</th>\n",
       "      <th>overall</th>\n",
       "      <th>reviewText</th>\n",
       "      <th>reviewTime</th>\n",
       "      <th>reviewerID</th>\n",
       "      <th>reviewerName</th>\n",
       "      <th>summary</th>\n",
       "      <th>unixReviewTime</th>\n",
       "    </tr>\n",
       "  </thead>\n",
       "  <tbody>\n",
       "    <tr>\n",
       "      <th>0</th>\n",
       "      <td>0000031887</td>\n",
       "      <td>[0, 0]</td>\n",
       "      <td>5</td>\n",
       "      <td>This is a great tutu and at a really great pri...</td>\n",
       "      <td>02 12, 2011</td>\n",
       "      <td>A1KLRMWW2FWPL4</td>\n",
       "      <td>Amazon Customer \"cameramom\"</td>\n",
       "      <td>Great tutu-  not cheaply made</td>\n",
       "      <td>1297468800</td>\n",
       "    </tr>\n",
       "    <tr>\n",
       "      <th>1</th>\n",
       "      <td>0000031887</td>\n",
       "      <td>[0, 0]</td>\n",
       "      <td>5</td>\n",
       "      <td>I bought this for my 4 yr old daughter for dan...</td>\n",
       "      <td>01 19, 2013</td>\n",
       "      <td>A2G5TCU2WDFZ65</td>\n",
       "      <td>Amazon Customer</td>\n",
       "      <td>Very Cute!!</td>\n",
       "      <td>1358553600</td>\n",
       "    </tr>\n",
       "    <tr>\n",
       "      <th>2</th>\n",
       "      <td>0000031887</td>\n",
       "      <td>[0, 0]</td>\n",
       "      <td>5</td>\n",
       "      <td>What can I say... my daughters have it in oran...</td>\n",
       "      <td>01 4, 2013</td>\n",
       "      <td>A1RLQXYNCMWRWN</td>\n",
       "      <td>Carola</td>\n",
       "      <td>I have buy more than one</td>\n",
       "      <td>1357257600</td>\n",
       "    </tr>\n",
       "    <tr>\n",
       "      <th>3</th>\n",
       "      <td>0000031887</td>\n",
       "      <td>[0, 0]</td>\n",
       "      <td>5</td>\n",
       "      <td>We bought several tutus at once, and they are ...</td>\n",
       "      <td>04 27, 2014</td>\n",
       "      <td>A8U3FAMSJVHS5</td>\n",
       "      <td>Caromcg</td>\n",
       "      <td>Adorable, Sturdy</td>\n",
       "      <td>1398556800</td>\n",
       "    </tr>\n",
       "    <tr>\n",
       "      <th>4</th>\n",
       "      <td>0000031887</td>\n",
       "      <td>[0, 0]</td>\n",
       "      <td>5</td>\n",
       "      <td>Thank you Halo Heaven great product for Little...</td>\n",
       "      <td>03 15, 2014</td>\n",
       "      <td>A3GEOILWLK86XM</td>\n",
       "      <td>CJ</td>\n",
       "      <td>Grammy's Angels Love it</td>\n",
       "      <td>1394841600</td>\n",
       "    </tr>\n",
       "  </tbody>\n",
       "</table>\n",
       "</div>"
      ],
      "text/plain": [
       "         asin helpful  overall  \\\n",
       "0  0000031887  [0, 0]        5   \n",
       "1  0000031887  [0, 0]        5   \n",
       "2  0000031887  [0, 0]        5   \n",
       "3  0000031887  [0, 0]        5   \n",
       "4  0000031887  [0, 0]        5   \n",
       "\n",
       "                                          reviewText   reviewTime  \\\n",
       "0  This is a great tutu and at a really great pri...  02 12, 2011   \n",
       "1  I bought this for my 4 yr old daughter for dan...  01 19, 2013   \n",
       "2  What can I say... my daughters have it in oran...   01 4, 2013   \n",
       "3  We bought several tutus at once, and they are ...  04 27, 2014   \n",
       "4  Thank you Halo Heaven great product for Little...  03 15, 2014   \n",
       "\n",
       "       reviewerID                 reviewerName                        summary  \\\n",
       "0  A1KLRMWW2FWPL4  Amazon Customer \"cameramom\"  Great tutu-  not cheaply made   \n",
       "1  A2G5TCU2WDFZ65              Amazon Customer                    Very Cute!!   \n",
       "2  A1RLQXYNCMWRWN                       Carola       I have buy more than one   \n",
       "3   A8U3FAMSJVHS5                      Caromcg               Adorable, Sturdy   \n",
       "4  A3GEOILWLK86XM                           CJ        Grammy's Angels Love it   \n",
       "\n",
       "   unixReviewTime  \n",
       "0      1297468800  \n",
       "1      1358553600  \n",
       "2      1357257600  \n",
       "3      1398556800  \n",
       "4      1394841600  "
      ]
     },
     "execution_count": 48,
     "metadata": {},
     "output_type": "execute_result"
    }
   ],
   "source": [
    "# importing required libraries\n",
    "import ast # for evaluating string representation of lists\n",
    "import nltk\n",
    "import string\n",
    "import itertools # for chaining ranges \n",
    "import transformers # for using DistilBert\n",
    "import numpy as np\n",
    "import pandas as pd\n",
    "import seaborn as sns\n",
    "import matplotlib.pyplot as plt\n",
    "from scipy import sparse\n",
    "from nltk.corpus import stopwords\n",
    "from nltk.stem import PorterStemmer\n",
    "from nltk.tokenize import word_tokenize\n",
    "from sklearn.model_selection import train_test_split\n",
    "from imblearn.under_sampling import RandomUnderSampler\n",
    "from sklearn.feature_extraction.text import TfidfVectorizer\n",
    "from sklearn.metrics import classification_report, confusion_matrix, accuracy_score, roc_auc_score\n",
    "\n",
    "# loading the dataset\n",
    "df = pd.read_csv(\"../data/Clothing_Shoes_and_Jewelry_5.csv\")\n",
    "\n",
    "# quick check of the data\n",
    "print(df.shape)\n",
    "df.head()"
   ]
  },
  {
   "cell_type": "markdown",
   "metadata": {},
   "source": [
    "# Pre-processing the data\n",
    "Here the main bulk of work is done to pre-process the data. This consists in cleaning the text columns, converting date columns to datetime objects, creating the binary target variable indicating if a review is helpful and adding a few new features\n",
    "\n",
    "It is always good to first check on missing values so as to know if this might be a problem or not"
   ]
  },
  {
   "cell_type": "code",
   "execution_count": 49,
   "metadata": {},
   "outputs": [
    {
     "data": {
      "text/plain": [
       "asin                0\n",
       "helpful             0\n",
       "overall             0\n",
       "reviewText         24\n",
       "reviewTime          0\n",
       "reviewerID          0\n",
       "reviewerName      469\n",
       "summary             1\n",
       "unixReviewTime      0\n",
       "dtype: int64"
      ]
     },
     "execution_count": 49,
     "metadata": {},
     "output_type": "execute_result"
    }
   ],
   "source": [
    "df.isna().sum()"
   ]
  },
  {
   "cell_type": "markdown",
   "metadata": {},
   "source": [
    "There are few missing values in the dataset, with most of them beeing in the reviewers name, which we might even discard this feature so no harm done there.\n",
    "\n",
    "The `reviewText` column has 24 missing values (a small portion) which could just be discarded. However, looking at these rows we see that even though they don't have `reviewText` they still have the `summary` column, which we can still use to get some insight.\n",
    "\n",
    "Anyways we're going to replace this `NaN`'s with empty strings so we can interpret the entire column as a string. But first let's quickly convert the date column to a datetime object for easy manipulation"
   ]
  },
  {
   "cell_type": "code",
   "execution_count": 50,
   "metadata": {},
   "outputs": [
    {
     "data": {
      "text/html": [
       "<div>\n",
       "<style scoped>\n",
       "    .dataframe tbody tr th:only-of-type {\n",
       "        vertical-align: middle;\n",
       "    }\n",
       "\n",
       "    .dataframe tbody tr th {\n",
       "        vertical-align: top;\n",
       "    }\n",
       "\n",
       "    .dataframe thead th {\n",
       "        text-align: right;\n",
       "    }\n",
       "</style>\n",
       "<table border=\"1\" class=\"dataframe\">\n",
       "  <thead>\n",
       "    <tr style=\"text-align: right;\">\n",
       "      <th></th>\n",
       "      <th>reviewText</th>\n",
       "      <th>summary</th>\n",
       "    </tr>\n",
       "  </thead>\n",
       "  <tbody>\n",
       "    <tr>\n",
       "      <th>1806</th>\n",
       "      <td>NaN</td>\n",
       "      <td>&amp;#8730;  20 YEARS and Still Going Strong!</td>\n",
       "    </tr>\n",
       "    <tr>\n",
       "      <th>9827</th>\n",
       "      <td>NaN</td>\n",
       "      <td>Very nice watch, looks great, wears well!</td>\n",
       "    </tr>\n",
       "    <tr>\n",
       "      <th>12528</th>\n",
       "      <td>NaN</td>\n",
       "      <td>Ruined a classic by changing the design.</td>\n",
       "    </tr>\n",
       "    <tr>\n",
       "      <th>15292</th>\n",
       "      <td>NaN</td>\n",
       "      <td>2XL for size 13 cross-trainer shoes</td>\n",
       "    </tr>\n",
       "    <tr>\n",
       "      <th>17610</th>\n",
       "      <td>NaN</td>\n",
       "      <td>Love This Product</td>\n",
       "    </tr>\n",
       "    <tr>\n",
       "      <th>24830</th>\n",
       "      <td>NaN</td>\n",
       "      <td>Jackie O glasses at a low cost</td>\n",
       "    </tr>\n",
       "    <tr>\n",
       "      <th>25896</th>\n",
       "      <td>NaN</td>\n",
       "      <td>how to adust the buckle on the Casio A158W-1</td>\n",
       "    </tr>\n",
       "    <tr>\n",
       "      <th>28236</th>\n",
       "      <td>NaN</td>\n",
       "      <td>Who makes a video for shoe trees??</td>\n",
       "    </tr>\n",
       "    <tr>\n",
       "      <th>31232</th>\n",
       "      <td>NaN</td>\n",
       "      <td>soft, cozy and warm - but it's teal.</td>\n",
       "    </tr>\n",
       "    <tr>\n",
       "      <th>35324</th>\n",
       "      <td>NaN</td>\n",
       "      <td>Fantastic and educational</td>\n",
       "    </tr>\n",
       "    <tr>\n",
       "      <th>40947</th>\n",
       "      <td>NaN</td>\n",
       "      <td>These boots are much darker than the picture</td>\n",
       "    </tr>\n",
       "    <tr>\n",
       "      <th>83742</th>\n",
       "      <td>NaN</td>\n",
       "      <td>WOW</td>\n",
       "    </tr>\n",
       "    <tr>\n",
       "      <th>92609</th>\n",
       "      <td>NaN</td>\n",
       "      <td>Affordable watch winder with 4 directional and...</td>\n",
       "    </tr>\n",
       "    <tr>\n",
       "      <th>111058</th>\n",
       "      <td>NaN</td>\n",
       "      <td>Much slimmer than my old wallet</td>\n",
       "    </tr>\n",
       "    <tr>\n",
       "      <th>118556</th>\n",
       "      <td>NaN</td>\n",
       "      <td>Durable, but overpriced and a little cheap-loo...</td>\n",
       "    </tr>\n",
       "    <tr>\n",
       "      <th>136850</th>\n",
       "      <td>NaN</td>\n",
       "      <td>Nice....</td>\n",
       "    </tr>\n",
       "    <tr>\n",
       "      <th>138961</th>\n",
       "      <td>NaN</td>\n",
       "      <td>Great Item and Fast Delivery!</td>\n",
       "    </tr>\n",
       "    <tr>\n",
       "      <th>189527</th>\n",
       "      <td>NaN</td>\n",
       "      <td>AMAZEBALLZZZZZ</td>\n",
       "    </tr>\n",
       "    <tr>\n",
       "      <th>196217</th>\n",
       "      <td>NaN</td>\n",
       "      <td>Cheeeeaaappp</td>\n",
       "    </tr>\n",
       "    <tr>\n",
       "      <th>200419</th>\n",
       "      <td>NaN</td>\n",
       "      <td>See my video for sizing info..</td>\n",
       "    </tr>\n",
       "    <tr>\n",
       "      <th>204454</th>\n",
       "      <td>NaN</td>\n",
       "      <td>\"THE PERFECT BODY SHIRT!!!\"</td>\n",
       "    </tr>\n",
       "    <tr>\n",
       "      <th>211904</th>\n",
       "      <td>NaN</td>\n",
       "      <td>Beautiful and comfortable</td>\n",
       "    </tr>\n",
       "    <tr>\n",
       "      <th>228104</th>\n",
       "      <td>NaN</td>\n",
       "      <td>Very well made</td>\n",
       "    </tr>\n",
       "    <tr>\n",
       "      <th>248042</th>\n",
       "      <td>NaN</td>\n",
       "      <td>Thumbs DOWN on these!</td>\n",
       "    </tr>\n",
       "  </tbody>\n",
       "</table>\n",
       "</div>"
      ],
      "text/plain": [
       "       reviewText                                            summary\n",
       "1806          NaN          &#8730;  20 YEARS and Still Going Strong!\n",
       "9827          NaN          Very nice watch, looks great, wears well!\n",
       "12528         NaN           Ruined a classic by changing the design.\n",
       "15292         NaN                2XL for size 13 cross-trainer shoes\n",
       "17610         NaN                                  Love This Product\n",
       "24830         NaN                     Jackie O glasses at a low cost\n",
       "25896         NaN       how to adust the buckle on the Casio A158W-1\n",
       "28236         NaN                 Who makes a video for shoe trees??\n",
       "31232         NaN               soft, cozy and warm - but it's teal.\n",
       "35324         NaN                          Fantastic and educational\n",
       "40947         NaN       These boots are much darker than the picture\n",
       "83742         NaN                                                WOW\n",
       "92609         NaN  Affordable watch winder with 4 directional and...\n",
       "111058        NaN                    Much slimmer than my old wallet\n",
       "118556        NaN  Durable, but overpriced and a little cheap-loo...\n",
       "136850        NaN                                           Nice....\n",
       "138961        NaN                      Great Item and Fast Delivery!\n",
       "189527        NaN                                     AMAZEBALLZZZZZ\n",
       "196217        NaN                                       Cheeeeaaappp\n",
       "200419        NaN                     See my video for sizing info..\n",
       "204454        NaN                        \"THE PERFECT BODY SHIRT!!!\"\n",
       "211904        NaN                          Beautiful and comfortable\n",
       "228104        NaN                                     Very well made\n",
       "248042        NaN                              Thumbs DOWN on these!"
      ]
     },
     "execution_count": 50,
     "metadata": {},
     "output_type": "execute_result"
    }
   ],
   "source": [
    "# Convert unix timestamp to datetime object\n",
    "df[\"reviewTime\"] = pd.to_datetime(df[\"unixReviewTime\"], unit=\"s\")\n",
    "df.drop(\"unixReviewTime\", axis=1, inplace=True)\n",
    "\n",
    "# Checking the rows in which the reviewText is not present. They don't have reviewTime but they at least have the summary\n",
    "df.loc[df[\"reviewText\"].isna(), [\"reviewText\", \"summary\"]]"
   ]
  },
  {
   "cell_type": "markdown",
   "metadata": {},
   "source": [
    "Looking at this segment of the data we notice that the `reviewerName` of index 1806 has a non-ascii character. It might be best to remove this characters all together.\n",
    "\n",
    "Lets also remove punctiation and stopwords from `reviewText` and `summary`. Stopwords are those common words that don't really add much to the sentece (e.g. the, a, etc.). Stemming is also applied to help with dimensionality constraints. Stemming tries to reduce words to their roots (eg. (\"runners\", \"running\") -> \"run\") which can help to reduce the amount of possible terms in the corpus. PorterStemmer was used for its speed and simplicity.\n",
    "\n",
    "Lemmatization (e.g. transforming \"studying\" to \"study\") and is not yet applied here although this could be tested to see if it improves results"
   ]
  },
  {
   "cell_type": "code",
   "execution_count": 51,
   "metadata": {},
   "outputs": [],
   "source": [
    "# This cell takes some time (around 1m30s) because in order to clean the sentence, remove the stopwords and stem words\n",
    "# Maybe a better solution would be needed for larger texts\n",
    "\n",
    "# Replace NaN cells with empty strings\n",
    "df = df.fillna(\"\")\n",
    "\n",
    "# Specify the non-ascii characters. Non ascii chars go from 0-31 and from 128-256\n",
    "ascii_ranges = itertools.chain(range(32), range(128, 257))\n",
    "\n",
    "# Create a lookup table specifying that non-ascii chars should be translated to empty strings\n",
    "# This table will be fed to str.translate\n",
    "# str.translate uses C-level table lookup so it's much faster than iterating over every char and replacing them\n",
    "tbl = dict.fromkeys(ascii_ranges, u\"\")\n",
    "\n",
    "# Create the english stop_words set\n",
    "stop_words = set(stopwords.words('english'))\n",
    "\n",
    "# instantiate the PorterStemmer object\n",
    "porter = PorterStemmer()\n",
    "\n",
    "def clean_sentence(s):\n",
    "    \"\"\"\n",
    "        Given a sentence remove its punctuation and stop words\n",
    "        \n",
    "        Arguments:\n",
    "            s - the input string to clean\n",
    "            \n",
    "        Returns: The input string stripped out of punctuation and stopwords\n",
    "    \"\"\"\n",
    "    s = s.lower().translate(tbl) # Set the text to lower case and remove non-ascii chars\n",
    "    s = s.translate(str.maketrans('','',string.punctuation)) # remove punctuation\n",
    "    tokens = word_tokenize(s)\n",
    "    cleaned_s = [porter.stem(w) for w in tokens if w not in stop_words] # remove stop-words and stem regular words\n",
    "    return \" \".join(cleaned_s)\n",
    "\n",
    "# Apply clean_sentence to reviewText and summary; to reviewerName just remove non-ascii chars\n",
    "df[\"reviewText\"] = df[\"reviewText\"].apply(clean_sentence)\n",
    "df[\"summary\"] = df[\"summary\"].apply(clean_sentence)\n",
    "df[\"reviewerName\"] = df[\"reviewerName\"].str.translate(tbl)"
   ]
  },
  {
   "cell_type": "markdown",
   "metadata": {},
   "source": [
    "Let's also split up the helpfulness column into 3 different columns:\n",
    "    - `num_yes_votes`: Number of \"Yes\" votes\n",
    "    - `num_votes`: Total number of votes\n",
    "    - `prop_yes_votes`: Proportion of \"Yes\" votes in the reiview\n",
    "    \n",
    "The `helpful` column is stored as the string representation of a list (from beeing stored in a `.csv` file). We first need to convert back to a list and then split the values of the list\n",
    "\n",
    "Also add a new feature, `num_words`: the number of words present in the cleaned review text"
   ]
  },
  {
   "cell_type": "code",
   "execution_count": 52,
   "metadata": {},
   "outputs": [],
   "source": [
    "# Evaluating the string representation of the list to convert it to an actual list\n",
    "df[\"helpful\"] = df[\"helpful\"].apply(lambda str_list: ast.literal_eval(str_list))\n",
    "\n",
    "# Split the helpful column into num_yes_votes and num_votes\n",
    "# Splitting this way is faster the applying a fuction to every row to get the first and second element\n",
    "df[['num_yes_votes','num_votes']] = pd.DataFrame(df[\"helpful\"].values.tolist(), index= df.index)\n",
    "\n",
    "# Creating the prop_yes_votes columns. Where there is no votes just leave at zero (avoid dividing by zero)\n",
    "df[\"prop_yes_votes\"] = np.where(df[\"num_votes\"] == 0, 0, df[\"num_yes_votes\"] / df[\"num_votes\"])\n",
    "\n",
    "# Count the number of words in the body\n",
    "df[\"num_words\"] = df[\"reviewText\"].str.count(\"\\w+\")"
   ]
  },
  {
   "cell_type": "markdown",
   "metadata": {},
   "source": [
    "# Task 1. Exploratory Data Analysis\n",
    "\n",
    "This section is dedicated to answering high level questions about the data. This is useful to get familiar with the data and test some abstract hypothesis."
   ]
  },
  {
   "cell_type": "markdown",
   "metadata": {},
   "source": [
    "## Is there a correlation between the rating of the product and the helpfulness of the review?\n",
    "\n",
    "When checking the correlation between features we need to take care to assure that pearson correlation makes sense to use. Trying to correlate a variable with a non-ordinal categorical variable doesn't really make sense and co-occurrence should be preferred. However in our case `helpful` (either number of \"yes\" votes or proportion of \"yes\" votes) is a numerical variable and `overvall` is ordinal given it has some intrisct order to it (a rating of 5 is higher than a ratting of 1)"
   ]
  },
  {
   "cell_type": "code",
   "execution_count": 53,
   "metadata": {},
   "outputs": [
    {
     "data": {
      "image/png": "[encoded data removed]",
      "text/plain": [
       "<Figure size 864x432 with 2 Axes>"
      ]
     },
     "metadata": {
      "needs_background": "light"
     },
     "output_type": "display_data"
    }
   ],
   "source": [
    "def plot_correlation_matrix(corr_matrix, plot_title=\"\"):\n",
    "    \"\"\"\n",
    "        Plot the lower triangle of the correlation matrix as a heatmap projection\n",
    "        Arguments:\n",
    "            corr_matrix: The correlation matrix to be plotted\n",
    "            plot_title: The title of the plot\n",
    "    \"\"\"\n",
    "    \n",
    "    # Generate a mask to hide the upper triangle of the matrix\n",
    "    mask = np.zeros_like(corr_matrix, dtype = np.bool)\n",
    "    mask[np.triu_indices_from(mask)] = True\n",
    "    \n",
    "    # plot the correalation matrix\n",
    "    plt.figure(figsize=(12,6))\n",
    "    sns.heatmap(corr_matrix, annot = True, cmap = sns.color_palette(\"Reds\", 11), mask=mask)\n",
    "    plt.title(plot_title)\n",
    "    plt.show()\n",
    "    \n",
    "correlation = df[[\"num_yes_votes\", \"num_votes\", \"prop_yes_votes\", \"num_words\", \"overall\"]].corr()\n",
    "plot_correlation_matrix(correlation, \n",
    "                        plot_title=\"At first, the rating does not seem to be correlated with helpfulness\")"
   ]
  },
  {
   "cell_type": "code",
   "execution_count": 54,
   "metadata": {},
   "outputs": [
    {
     "data": {
      "text/plain": [
       "True     191656\n",
       "False     87021\n",
       "Name: num_votes, dtype: int64"
      ]
     },
     "execution_count": 54,
     "metadata": {},
     "output_type": "execute_result"
    }
   ],
   "source": [
    "(df[\"num_votes\"] == 0).value_counts()"
   ]
  },
  {
   "cell_type": "markdown",
   "metadata": {},
   "source": [
    "At first it does seem that the `overall` column is not really correlated in any way in the helpfulness of the review (ether it be the number of \"yes\" votes, the number of votes or the proportion of \"yes\" votes). However, 191656 reviews (68.77%) don't have a single vote, when we discard these reviews the correlation is different"
   ]
  },
  {
   "cell_type": "code",
   "execution_count": 55,
   "metadata": {},
   "outputs": [
    {
     "data": {
      "image/png": "[encoded data removed]",
      "text/plain": [
       "<Figure size 864x432 with 2 Axes>"
      ]
     },
     "metadata": {
      "needs_background": "light"
     },
     "output_type": "display_data"
    }
   ],
   "source": [
    "correlation_wout_zero_reviews = df.loc[df[\"num_votes\"] != 0, [\"num_yes_votes\", \"num_votes\", \"prop_yes_votes\", \"num_words\", \"overall\"]].corr()\n",
    "plot_correlation_matrix(correlation_wout_zero_reviews, \n",
    "                        plot_title=\"Looking at reviews with num_votes > 0, we see some correlation between rating and helpfulness\")"
   ]
  },
  {
   "cell_type": "markdown",
   "metadata": {},
   "source": [
    "When discarding reviews with no votes we see that there is a somewhat week correlation between `overall` and `prop_yes_votes`. This that the overall score is not really influenced by the number of \"yes\" votes, nor the total number of votes nor the number of words in the review. The overall score is, however, influenced by the proportion of \"yes\" votes the review have.\n",
    "\n",
    "An interesting point is the correlation between `num_yes_votes` and `num_votes`. It is obivous that this correlation should be positive (since `num_yes_votes` is a subset of `num_votes`) however it is interesting that it has such a high correlation. This indicates that an user only votes in a review if it was actually helpful to them, and if it was not then he/she probably just ignores it.\n",
    "\n",
    "## What is the median number of votes a review gets?"
   ]
  },
  {
   "cell_type": "code",
   "execution_count": 56,
   "metadata": {},
   "outputs": [
    {
     "data": {
      "image/png": "[encoded data removed]",
      "text/plain": [
       "<Figure size 864x432 with 1 Axes>"
      ]
     },
     "metadata": {
      "needs_background": "light"
     },
     "output_type": "display_data"
    }
   ],
   "source": [
    "# Number of non-zero votes reviews = 87021\n",
    "\n",
    "nonzero_votes_filtered = df.loc[(df[\"num_votes\"] > 0) & (df[\"num_votes\"] <= 50),  \"num_votes\"]\n",
    "# nonzero_votes_filtered.shape[0] -> 86379\n",
    "\n",
    "# 86379/87021 = 0.992 -> 99% of non-zeros reviews have between 1 and 50 votes, so we can safely discard the rest for this analysis\n",
    "plt.figure(figsize=(12,6))\n",
    "sns.distplot(nonzero_votes_filtered)\n",
    "plt.axvline(x=nonzero_votes_filtered.median(), color=\"red\", ls=\"--\", label=f\"Median non-zero votes = {nonzero_votes_filtered.median()}\")\n",
    "plt.title(\"The number of votes is heavly right-skewed\")\n",
    "plt.legend()\n",
    "plt.show()"
   ]
  },
  {
   "cell_type": "markdown",
   "metadata": {},
   "source": [
    "Using the median is favoured over the average for skewed distributions such as this one because it is not as heavly influenced by outliers (extreme values)\n",
    "So the median number of votes a review genereally gets is 2. Given this we can consider a helpfull review to have a high proportion of \"yes\" votes (let's say above 0.5) and also have more than, for example, two times the number of median votes.\n",
    "\n",
    "Another possible way to find helpful reviews would be to for example weight the proportion of \"yes\" votes with the number of votes it has (`prop_yes_votes * num_votes`). All this approaches have some assumptions about them, picking one should be validated with stakeholders.\n",
    "\n",
    "For the binary target variable indicating if a reviewing is helpful or not we'll define it as having more than 4 votes and having more \"yes\" votes than \"not yes\" votes. (`prop_yes_votes` >= 0.5)"
   ]
  },
  {
   "cell_type": "code",
   "execution_count": 57,
   "metadata": {
    "scrolled": true
   },
   "outputs": [
    {
     "data": {
      "text/plain": [
       "0    256782\n",
       "1     21895\n",
       "Name: helpful_review, dtype: int64"
      ]
     },
     "execution_count": 57,
     "metadata": {},
     "output_type": "execute_result"
    }
   ],
   "source": [
    "# Creating the binary target label indicating if a review was helpful or not\n",
    "df[\"helpful_review\"] = ((df[\"num_votes\"] >= 4) & (df[\"prop_yes_votes\"] >= 0.5)).astype(int)\n",
    "df[\"helpful_review\"].value_counts()"
   ]
  },
  {
   "cell_type": "markdown",
   "metadata": {},
   "source": [
    "Only 7.857% are considered helpful according to our definition of helpful reviews. Alhtough there is still a large number of positive class observations the is some class imbalance and so accuracy should be discouraged as a model evaluation metric\n",
    "\n",
    "## Who are the most helpful reviewers?\n",
    "\n",
    "Here we're defining the helpfulness score of a reviewer as the product of the average proportion of \"yes\" votes their review gets, times the average number of \"yes\" votes they get times the number of reviews they made\n",
    "\n",
    "What we're aiming with this is to find an user that has given many reviews and that have all been generally well received, or an user who has made few reviews but have many \"yes\" votes"
   ]
  },
  {
   "cell_type": "code",
   "execution_count": 58,
   "metadata": {},
   "outputs": [
    {
     "name": "stdout",
     "output_type": "stream",
     "text": [
      "Most helpful reviewer: Matthew G. Sherwin\n"
     ]
    },
    {
     "data": {
      "text/html": [
       "<div>\n",
       "<style scoped>\n",
       "    .dataframe tbody tr th:only-of-type {\n",
       "        vertical-align: middle;\n",
       "    }\n",
       "\n",
       "    .dataframe tbody tr th {\n",
       "        vertical-align: top;\n",
       "    }\n",
       "\n",
       "    .dataframe thead th {\n",
       "        text-align: right;\n",
       "    }\n",
       "</style>\n",
       "<table border=\"1\" class=\"dataframe\">\n",
       "  <thead>\n",
       "    <tr style=\"text-align: right;\">\n",
       "      <th></th>\n",
       "      <th>prop_yes_votes</th>\n",
       "      <th>num_yes_votes</th>\n",
       "      <th>num_votes</th>\n",
       "      <th>asin</th>\n",
       "      <th>helpfulness_score</th>\n",
       "    </tr>\n",
       "    <tr>\n",
       "      <th>reviewerID</th>\n",
       "      <th></th>\n",
       "      <th></th>\n",
       "      <th></th>\n",
       "      <th></th>\n",
       "      <th></th>\n",
       "    </tr>\n",
       "  </thead>\n",
       "  <tbody>\n",
       "    <tr>\n",
       "      <th>A2R6RA8FRBS608</th>\n",
       "      <td>0.821805</td>\n",
       "      <td>20.840000</td>\n",
       "      <td>23.460000</td>\n",
       "      <td>50</td>\n",
       "      <td>856.321185</td>\n",
       "    </tr>\n",
       "    <tr>\n",
       "      <th>A2REQUI85URT87</th>\n",
       "      <td>0.892409</td>\n",
       "      <td>113.428571</td>\n",
       "      <td>121.428571</td>\n",
       "      <td>7</td>\n",
       "      <td>708.572889</td>\n",
       "    </tr>\n",
       "    <tr>\n",
       "      <th>A2PQ3WXMKCT4NX</th>\n",
       "      <td>0.933694</td>\n",
       "      <td>79.111111</td>\n",
       "      <td>81.444444</td>\n",
       "      <td>9</td>\n",
       "      <td>664.789793</td>\n",
       "    </tr>\n",
       "    <tr>\n",
       "      <th>A2GGKJ318HO2GE</th>\n",
       "      <td>0.686537</td>\n",
       "      <td>87.181818</td>\n",
       "      <td>92.454545</td>\n",
       "      <td>11</td>\n",
       "      <td>658.389332</td>\n",
       "    </tr>\n",
       "    <tr>\n",
       "      <th>A30NHVVC62LJMK</th>\n",
       "      <td>0.853222</td>\n",
       "      <td>98.714286</td>\n",
       "      <td>99.000000</td>\n",
       "      <td>7</td>\n",
       "      <td>589.576170</td>\n",
       "    </tr>\n",
       "    <tr>\n",
       "      <th>AWBGHDHH7E51F</th>\n",
       "      <td>0.767272</td>\n",
       "      <td>16.422222</td>\n",
       "      <td>17.022222</td>\n",
       "      <td>45</td>\n",
       "      <td>567.013948</td>\n",
       "    </tr>\n",
       "    <tr>\n",
       "      <th>A38DSYHNBYZNUG</th>\n",
       "      <td>0.840817</td>\n",
       "      <td>77.625000</td>\n",
       "      <td>81.625000</td>\n",
       "      <td>8</td>\n",
       "      <td>522.147166</td>\n",
       "    </tr>\n",
       "    <tr>\n",
       "      <th>A1IU7S4HCK1XK0</th>\n",
       "      <td>0.985877</td>\n",
       "      <td>31.285714</td>\n",
       "      <td>33.642857</td>\n",
       "      <td>14</td>\n",
       "      <td>431.813961</td>\n",
       "    </tr>\n",
       "    <tr>\n",
       "      <th>A1F7YU6O5RU432</th>\n",
       "      <td>0.604314</td>\n",
       "      <td>16.095238</td>\n",
       "      <td>17.095238</td>\n",
       "      <td>42</td>\n",
       "      <td>408.516103</td>\n",
       "    </tr>\n",
       "    <tr>\n",
       "      <th>AX3T5TI76TOJ1</th>\n",
       "      <td>0.791893</td>\n",
       "      <td>25.368421</td>\n",
       "      <td>26.210526</td>\n",
       "      <td>19</td>\n",
       "      <td>381.692535</td>\n",
       "    </tr>\n",
       "  </tbody>\n",
       "</table>\n",
       "</div>"
      ],
      "text/plain": [
       "                prop_yes_votes  num_yes_votes   num_votes  asin  \\\n",
       "reviewerID                                                        \n",
       "A2R6RA8FRBS608        0.821805      20.840000   23.460000    50   \n",
       "A2REQUI85URT87        0.892409     113.428571  121.428571     7   \n",
       "A2PQ3WXMKCT4NX        0.933694      79.111111   81.444444     9   \n",
       "A2GGKJ318HO2GE        0.686537      87.181818   92.454545    11   \n",
       "A30NHVVC62LJMK        0.853222      98.714286   99.000000     7   \n",
       "AWBGHDHH7E51F         0.767272      16.422222   17.022222    45   \n",
       "A38DSYHNBYZNUG        0.840817      77.625000   81.625000     8   \n",
       "A1IU7S4HCK1XK0        0.985877      31.285714   33.642857    14   \n",
       "A1F7YU6O5RU432        0.604314      16.095238   17.095238    42   \n",
       "AX3T5TI76TOJ1         0.791893      25.368421   26.210526    19   \n",
       "\n",
       "                helpfulness_score  \n",
       "reviewerID                         \n",
       "A2R6RA8FRBS608         856.321185  \n",
       "A2REQUI85URT87         708.572889  \n",
       "A2PQ3WXMKCT4NX         664.789793  \n",
       "A2GGKJ318HO2GE         658.389332  \n",
       "A30NHVVC62LJMK         589.576170  \n",
       "AWBGHDHH7E51F          567.013948  \n",
       "A38DSYHNBYZNUG         522.147166  \n",
       "A1IU7S4HCK1XK0         431.813961  \n",
       "A1F7YU6O5RU432         408.516103  \n",
       "AX3T5TI76TOJ1          381.692535  "
      ]
     },
     "execution_count": 58,
     "metadata": {},
     "output_type": "execute_result"
    }
   ],
   "source": [
    "# Taking the top 10 most helpful reviewers\n",
    "top_reviwers = df.groupby(\"reviewerID\").agg({\n",
    "    \"prop_yes_votes\": \"mean\", \n",
    "    \"num_yes_votes\": \"mean\",\n",
    "    \"num_votes\": \"mean\",\n",
    "    \"asin\": \"count\" # this is just here to get the number of reviews the user has given \n",
    "})\n",
    "\n",
    "# creating the helpfulness_score of each user\n",
    "top_reviwers[\"helpfulness_score\"] = top_reviwers[\"prop_yes_votes\"] * top_reviwers[\"num_yes_votes\"] * top_reviwers[\"asin\"] \n",
    "\n",
    "# sorting reviewers descendingly and taking the first 10\n",
    "top_reviwers = top_reviwers.sort_values(by=\"helpfulness_score\", ascending=False).head(10)\n",
    "\n",
    "most_helpful_reviwer = df.loc[df['reviewerID'] == top_reviwers.index[0], 'reviewerName'].to_numpy()[0]\n",
    "print(f\"Most helpful reviewer: {most_helpful_reviwer}\")\n",
    "top_reviwers"
   ]
  },
  {
   "cell_type": "markdown",
   "metadata": {},
   "source": [
    "## And what are the most helpful reviews?\n",
    "\n",
    "Here let's consider helpful reviewers those that have the highest proportion of \"yes\" votes and that have at least 4 votes."
   ]
  },
  {
   "cell_type": "code",
   "execution_count": 59,
   "metadata": {},
   "outputs": [
    {
     "data": {
      "text/html": [
       "<div>\n",
       "<style scoped>\n",
       "    .dataframe tbody tr th:only-of-type {\n",
       "        vertical-align: middle;\n",
       "    }\n",
       "\n",
       "    .dataframe tbody tr th {\n",
       "        vertical-align: top;\n",
       "    }\n",
       "\n",
       "    .dataframe thead th {\n",
       "        text-align: right;\n",
       "    }\n",
       "</style>\n",
       "<table border=\"1\" class=\"dataframe\">\n",
       "  <thead>\n",
       "    <tr style=\"text-align: right;\">\n",
       "      <th></th>\n",
       "      <th>reviewText</th>\n",
       "      <th>summary</th>\n",
       "      <th>prop_yes_votes</th>\n",
       "      <th>num_yes_votes</th>\n",
       "      <th>num_votes</th>\n",
       "    </tr>\n",
       "  </thead>\n",
       "  <tbody>\n",
       "    <tr>\n",
       "      <th>28156</th>\n",
       "      <td>compart design read detailsthi thoughtfullydes...</td>\n",
       "      <td>best featur uniqu way</td>\n",
       "      <td>1.0</td>\n",
       "      <td>239</td>\n",
       "      <td>239</td>\n",
       "    </tr>\n",
       "    <tr>\n",
       "      <th>104230</th>\n",
       "      <td>us know pant size better hip circumfer hane si...</td>\n",
       "      <td>size</td>\n",
       "      <td>1.0</td>\n",
       "      <td>227</td>\n",
       "      <td>227</td>\n",
       "    </tr>\n",
       "    <tr>\n",
       "      <th>81648</th>\n",
       "      <td>tri decid doctor kit buy torn one fisher price...</td>\n",
       "      <td>pretti good</td>\n",
       "      <td>1.0</td>\n",
       "      <td>154</td>\n",
       "      <td>154</td>\n",
       "    </tr>\n",
       "    <tr>\n",
       "      <th>111598</th>\n",
       "      <td>comfort king everyth come shoe beauti queen sa...</td>\n",
       "      <td>comfort king</td>\n",
       "      <td>1.0</td>\n",
       "      <td>117</td>\n",
       "      <td>117</td>\n",
       "    </tr>\n",
       "    <tr>\n",
       "      <th>79505</th>\n",
       "      <td>updat 51214 new purs arriv almost concern see ...</td>\n",
       "      <td>updat version pretti much perfect</td>\n",
       "      <td>1.0</td>\n",
       "      <td>109</td>\n",
       "      <td>109</td>\n",
       "    </tr>\n",
       "    <tr>\n",
       "      <th>115764</th>\n",
       "      <td>product info mention umbrella diamet 38 one si...</td>\n",
       "      <td>far good</td>\n",
       "      <td>1.0</td>\n",
       "      <td>108</td>\n",
       "      <td>108</td>\n",
       "    </tr>\n",
       "    <tr>\n",
       "      <th>130772</th>\n",
       "      <td>order four differ move comfort bra im 36d want...</td>\n",
       "      <td>comfort job look good easi get</td>\n",
       "      <td>1.0</td>\n",
       "      <td>107</td>\n",
       "      <td>107</td>\n",
       "    </tr>\n",
       "    <tr>\n",
       "      <th>65016</th>\n",
       "      <td>unlik review walk pave road treadmil speak pro...</td>\n",
       "      <td>fit need perfectli look nice boot</td>\n",
       "      <td>1.0</td>\n",
       "      <td>105</td>\n",
       "      <td>105</td>\n",
       "    </tr>\n",
       "    <tr>\n",
       "      <th>37103</th>\n",
       "      <td>wrote posit review earlier im retract complet ...</td>\n",
       "      <td>save money</td>\n",
       "      <td>1.0</td>\n",
       "      <td>102</td>\n",
       "      <td>102</td>\n",
       "    </tr>\n",
       "    <tr>\n",
       "      <th>30345</th>\n",
       "      <td>hane cotton brief alway favorit undi wear actu...</td>\n",
       "      <td>huge disappoint</td>\n",
       "      <td>1.0</td>\n",
       "      <td>98</td>\n",
       "      <td>98</td>\n",
       "    </tr>\n",
       "  </tbody>\n",
       "</table>\n",
       "</div>"
      ],
      "text/plain": [
       "                                               reviewText  \\\n",
       "28156   compart design read detailsthi thoughtfullydes...   \n",
       "104230  us know pant size better hip circumfer hane si...   \n",
       "81648   tri decid doctor kit buy torn one fisher price...   \n",
       "111598  comfort king everyth come shoe beauti queen sa...   \n",
       "79505   updat 51214 new purs arriv almost concern see ...   \n",
       "115764  product info mention umbrella diamet 38 one si...   \n",
       "130772  order four differ move comfort bra im 36d want...   \n",
       "65016   unlik review walk pave road treadmil speak pro...   \n",
       "37103   wrote posit review earlier im retract complet ...   \n",
       "30345   hane cotton brief alway favorit undi wear actu...   \n",
       "\n",
       "                                  summary  prop_yes_votes  num_yes_votes  \\\n",
       "28156               best featur uniqu way             1.0            239   \n",
       "104230                               size             1.0            227   \n",
       "81648                         pretti good             1.0            154   \n",
       "111598                       comfort king             1.0            117   \n",
       "79505   updat version pretti much perfect             1.0            109   \n",
       "115764                           far good             1.0            108   \n",
       "130772     comfort job look good easi get             1.0            107   \n",
       "65016   fit need perfectli look nice boot             1.0            105   \n",
       "37103                          save money             1.0            102   \n",
       "30345                     huge disappoint             1.0             98   \n",
       "\n",
       "        num_votes  \n",
       "28156         239  \n",
       "104230        227  \n",
       "81648         154  \n",
       "111598        117  \n",
       "79505         109  \n",
       "115764        108  \n",
       "130772        107  \n",
       "65016         105  \n",
       "37103         102  \n",
       "30345          98  "
      ]
     },
     "execution_count": 59,
     "metadata": {},
     "output_type": "execute_result"
    }
   ],
   "source": [
    "helpful_reviews = df.loc[df[\"num_votes\"] >= 4, [\"reviewText\", \"summary\", \"prop_yes_votes\", \"num_yes_votes\", \"num_votes\"]]\\\n",
    ".sort_values(by=[\"prop_yes_votes\", \"num_yes_votes\"], ascending=False)\\\n",
    ".head(10)\n",
    "\n",
    "helpful_reviews"
   ]
  },
  {
   "cell_type": "markdown",
   "metadata": {},
   "source": [
    "## Are reviews getting more or less helpful over time?"
   ]
  },
  {
   "cell_type": "code",
   "execution_count": 60,
   "metadata": {},
   "outputs": [
    {
     "data": {
      "image/png": "[encoded data removed]",
      "text/plain": [
       "<Figure size 864x432 with 1 Axes>"
      ]
     },
     "metadata": {
      "needs_background": "light"
     },
     "output_type": "display_data"
    },
    {
     "data": {
      "image/png": "[encoded data removed]",
      "text/plain": [
       "<Figure size 432x288 with 1 Axes>"
      ]
     },
     "metadata": {
      "needs_background": "light"
     },
     "output_type": "display_data"
    }
   ],
   "source": [
    "# Specify that we want a monthly period\n",
    "period = df[\"reviewTime\"].dt.to_period(freq=\"M\")\n",
    "\n",
    "# Group every year/month and get the mean of the specified variables\n",
    "grouped_data = df.groupby(period)[[\"prop_yes_votes\", \"num_yes_votes\", \"num_votes\", \"num_words\"]].mean()\n",
    "\n",
    "# Sort the index (which is the year/month)\n",
    "grouped_data = grouped_data.sort_index()\n",
    "\n",
    "plt.figure(figsize=(12, 6))\n",
    "sns.lineplot(x=grouped_data.index.year, y=grouped_data.prop_yes_votes)\n",
    "plt.title(\"The helpfulness of reviews seems to be going down, as so is its variance\")\n",
    "plt.show()\n",
    "\n",
    "sns.lineplot(x=grouped_data.index.year, y=grouped_data.num_votes)\n",
    "plt.title(\"The number of votes is also slightly decreasing\")\n",
    "plt.show()"
   ]
  },
  {
   "cell_type": "markdown",
   "metadata": {},
   "source": [
    "It does seem that the helpfulness of reviews is going down with time, along with its variance. This could be explained by the fact that there have also been fewer votes over time in general"
   ]
  },
  {
   "cell_type": "markdown",
   "metadata": {},
   "source": [
    "## Are helpful reviews longer?"
   ]
  },
  {
   "cell_type": "code",
   "execution_count": 61,
   "metadata": {},
   "outputs": [
    {
     "data": {
      "image/png": "[encoded data removed]",
      "text/plain": [
       "<Figure size 864x432 with 1 Axes>"
      ]
     },
     "metadata": {
      "needs_background": "light"
     },
     "output_type": "display_data"
    }
   ],
   "source": [
    "plt.figure(figsize=(12, 6))\n",
    "sns.kdeplot(df.loc[(df[\"num_words\"] > 0) & (df[\"num_words\"] < 500) & (df[\"helpful_review\"] == 0), \"num_words\"], shade=True, label=\"Not helpful\")\n",
    "sns.kdeplot(df.loc[(df[\"num_words\"] > 0) & (df[\"num_words\"] < 500) & (df[\"helpful_review\"] == 1), \"num_words\"], shade=True, label=\"Helpful\")\n",
    "plt.title(\"Reviews with more words are more frequently helpful\")\n",
    "plt.show()"
   ]
  },
  {
   "cell_type": "markdown",
   "metadata": {},
   "source": [
    "This shows us that all reviews are generally short (they have a median of 20 meaningful words), but it is a little bit more frequent to find longer reviews being helpful than otherwise"
   ]
  },
  {
   "cell_type": "markdown",
   "metadata": {},
   "source": [
    "## What are the most frequent words in helpful messages?"
   ]
  },
  {
   "cell_type": "code",
   "execution_count": 18,
   "metadata": {},
   "outputs": [
    {
     "ename": "ModuleNotFoundError",
     "evalue": "No module named 'wordcloud'",
     "output_type": "error",
     "traceback": [
      "\u001b[1;31m---------------------------------------------------------------------------\u001b[0m",
      "\u001b[1;31mModuleNotFoundError\u001b[0m                       Traceback (most recent call last)",
      "\u001b[1;32m<ipython-input-18-d0a141875051>\u001b[0m in \u001b[0;36m<module>\u001b[1;34m\u001b[0m\n\u001b[1;32m----> 1\u001b[1;33m \u001b[1;32mfrom\u001b[0m \u001b[0mwordcloud\u001b[0m \u001b[1;32mimport\u001b[0m \u001b[0mWordCloud\u001b[0m\u001b[1;33m\u001b[0m\u001b[1;33m\u001b[0m\u001b[0m\n\u001b[0m\u001b[0;32m      2\u001b[0m \u001b[1;33m\u001b[0m\u001b[0m\n\u001b[0;32m      3\u001b[0m \u001b[1;32mdef\u001b[0m \u001b[0mplot_wordcloud\u001b[0m\u001b[1;33m(\u001b[0m\u001b[0mcolumn\u001b[0m\u001b[1;33m,\u001b[0m \u001b[0mplot_title\u001b[0m\u001b[1;33m=\u001b[0m\u001b[1;34m\"\"\u001b[0m\u001b[1;33m)\u001b[0m\u001b[1;33m:\u001b[0m\u001b[1;33m\u001b[0m\u001b[1;33m\u001b[0m\u001b[0m\n\u001b[0;32m      4\u001b[0m     \"\"\"\n\u001b[0;32m      5\u001b[0m         \u001b[0mPlot\u001b[0m \u001b[0mthe\u001b[0m \u001b[0mwordcloud\u001b[0m \u001b[0mof\u001b[0m \u001b[0mthe\u001b[0m \u001b[0mconcatenated\u001b[0m \u001b[0mstring\u001b[0m \u001b[1;32mfrom\u001b[0m \u001b[0mthe\u001b[0m \u001b[0mprovided\u001b[0m \u001b[0mcolumn\u001b[0m\u001b[1;33m\u001b[0m\u001b[1;33m\u001b[0m\u001b[0m\n",
      "\u001b[1;31mModuleNotFoundError\u001b[0m: No module named 'wordcloud'"
     ]
    }
   ],
   "source": [
    "from wordcloud import WordCloud\n",
    "\n",
    "def plot_wordcloud(column, plot_title=\"\"):\n",
    "    \"\"\"\n",
    "        Plot the wordcloud of the concatenated string from the provided column\n",
    "        Arguments:\n",
    "            column: The column of interest to be concatenated\n",
    "            plot_title: the title of the plot\n",
    "    \"\"\"\n",
    "    \n",
    "    # Concatenate the string column \n",
    "    try:\n",
    "        concatenated_str = \" \".join(helpful_reviews[column].to_numpy())\n",
    "    except:\n",
    "        print(\"Please pass a valid string column name\")\n",
    "        concatenated_str = \"\"\n",
    "    \n",
    "    # Create the word cloud\n",
    "    wordcloud = WordCloud(max_font_size=50, max_words=50, background_color=\"white\", random_state=42)\\\n",
    "        .generate(concatenated_str)\n",
    "    \n",
    "    plt.figure(figsize=(8, 4))\n",
    "    plt.imshow(wordcloud, interpolation=\"bilinear\")\n",
    "    plt.title(plot_title)\n",
    "    plt.axis(\"off\")\n",
    "    plt.show()\n",
    "    \n",
    "plot_wordcloud(\"reviewText\", plot_title=\"Most common words in the body of the top 10 helpful reviews\")\n",
    "plot_wordcloud(\"summary\", plot_title=\"Most common words in the summary of the top 10 helpful reviews\")"
   ]
  },
  {
   "cell_type": "markdown",
   "metadata": {},
   "source": [
    "What this tells us that the the top 10 reviews are generally positive reviews (which goes along with what is concluded in the correlation matrix analysis) but interestingly enough in the body of the review people tend to describe the product and dont use so many words as \"great\", \"good\", etc. It seems that it might be the fact that people (at least in these 10 reviews) use the summary to express their sentiment towards the item, and in the body of the review they describe why.\n",
    "\n",
    "## Conclusion of these analysis:\n",
    "\n",
    "With these preliminary analysis we conclude that:\n",
    "- There exists some correlation between the overall score of a product and the helpfulness of a review, at least for reviews that have votes in them\n",
    "- Reviews that have votes generally have a median of 2 votes\n",
    "- Reviews tend to be getting less helpful over time, however so is the number of votes reviews get\n",
    "- Helpful reviews are slightly longer than non-helpful reviews\n",
    "- It appears people tend to use the summary to express their feelings towards the item and the body of the review to describe it\n",
    "\n",
    "# Task 2. Modeling\n",
    "\n",
    "In this section we aim to understand if we can predict the usefulness of a question based on other questions. Furthermore, we want to understand if just looking at the summary of the review is enough to identify its usefulness or do we have to read the entire review to extract useful information from it.\n",
    "\n",
    "We'll create a baseline model using TF-IDF and compare it to a more modern deep learning nlp model such as BERT\n",
    "\n",
    "Lets first create a new column to store the original text in which we all so add bi-grams to it. Bi-grams may be useful o pick up some common expressions in language suchs as \"cardiovascular disease\" instead of \"cardiovascular\" and \"disease\"\n",
    "\n",
    "### Bi-grams"
   ]
  },
  {
   "cell_type": "code",
   "execution_count": 63,
   "metadata": {},
   "outputs": [
    {
     "data": {
      "text/plain": [
       "'great tutu realli great price doesnt look cheap im glad look amazon found afford tutu isnt made poorli great_tutu tutu_realli realli_great great_price price_doesnt doesnt_look look_cheap cheap_im im_glad glad_look look_amazon amazon_found found_afford afford_tutu tutu_isnt isnt_made made_poorli'"
      ]
     },
     "execution_count": 63,
     "metadata": {},
     "output_type": "execute_result"
    }
   ],
   "source": [
    "def add_bigrams(sentence):\n",
    "    \"\"\"\n",
    "        Appends bi-grams of the sentence to the end\n",
    "        Arguments:\n",
    "            sentence: The input sentence in which to extract and append the bigrams\n",
    "        Returns:\n",
    "            The same sentence but with extract bigram tokens in the end\n",
    "    \"\"\"\n",
    "    tokens = nltk.word_tokenize(sentence)\n",
    "    bigrams = nltk.bigrams(tokens)\n",
    "    # return the sentence plus the bigrams joined with an underscore\n",
    "    # eg: this is a sentence -> this is a sentence this_is is_a a_sentence\n",
    "    return sentence + \" \"+ \" \".join(map('_'.join, bigrams))\n",
    "\n",
    "#df[\"reviewText_w_bigrams\"] = df[\"reviewText\"].apply(add_bigrams)\n",
    "df[\"summary_w_bigrams\"] = df[\"summary\"].apply(add_bigrams)\n",
    "\n",
    "# showing an example\n",
    "df[\"reviewText_w_bigrams\"][0]"
   ]
  },
  {
   "cell_type": "markdown",
   "metadata": {},
   "source": [
    "### TF-IDF\n",
    "\n",
    "We can now create the TF-IDF representation of these words.\n",
    "\n",
    "A common approach to extract features from text is to create a Bag of Words representation. In this representation a matrix is created where rows are formed by the different documents and columns are all existing terms in the corpus. This representation counts the occurence of terms in a document. However a problem arises where longer documents naturally have higher average count values than short documents. So a common solution is to apply Term frequency - Inverse document frequency normalization.\n",
    "\n",
    "In this approach terms are normalized by their frequency in the document (TF) and by how rare they are, i.e. in how many documents they appear in (IDF)"
   ]
  },
  {
   "cell_type": "code",
   "execution_count": 149,
   "metadata": {},
   "outputs": [],
   "source": [
    "def add_pandas_column(df, column):\n",
    "    \"\"\"\n",
    "        Adds a pandas column to a sparse matrix\n",
    "        Arguments:\n",
    "            df: The sparse matrix in which to add the column\n",
    "            column: The pandas column to add to the sparse matrix\n",
    "        Returns:\n",
    "            A sparse matrix with the extra column added to it\n",
    "    \"\"\"\n",
    "    return sparse.hstack((df, np.array(column)[:,None]))\n",
    "\n",
    "tf_idf = TfidfVectorizer(dtype=np.float32) # default is dtype=np.float64, we can same some memory this way\n",
    "\n",
    "# TF-IDF vectorize the body of the review\n",
    "X = tf_idf.fit_transform(df['reviewText'])\n",
    "X_bigrams = tf_idf.fit_transform(df['reviewText_w_bigrams'])\n",
    "\n",
    "# TF-IDF vectorize the summary of the review\n",
    "X_summary = tf_idf.fit_transform(df['summary'])\n",
    "X_summary_bigrams = tf_idf.fit_transform(df['summary_w_bigrams'])\n",
    "\n",
    "\n",
    "#X = add_pandas_column(add_pandas_column(X, df[\"num_words\"]), df[\"overall\"]) # Add the num_words and overall columns\n",
    "#X_bigrams = add_pandas_column(add_pandas_column(X_bigrams, df[\"num_words\"]), df[\"overall\"]) # Add the num_words and overall columns\n",
    "\n",
    "#X_summary = add_pandas_column(add_pandas_column(X_summary, df[\"num_words\"]), df[\"overall\"]) # Add the num_words and overall columns\n",
    "#X_summary_bigrams = add_pandas_column(add_pandas_column(X_summary_bigrams, df[\"num_words\"]), df[\"overall\"]) # Add the num_words and overall columns"
   ]
  },
  {
   "cell_type": "markdown",
   "metadata": {},
   "source": [
    "The summary features are much more manageable given they are around 10 times shorter.\n",
    "\n",
    "# Train-Test split\n",
    "\n",
    "In order to perform a correct evaluation of our model we'll split our data intro train and test. The training set will be furthered splitted in to K-folds as to get a more robust validation of our model\n",
    "\n",
    "Since we are dealing with a large dataset and we have a mild class imbalance, we can also undersample the negative class. This will lead to a greater balance between classes and most importantly will make the data more manageable, although we should be carefull as to not have much more columns than rows"
   ]
  },
  {
   "cell_type": "code",
   "execution_count": 150,
   "metadata": {},
   "outputs": [],
   "source": [
    "def split_data(X, y, undersample=True):\n",
    "    \"\"\"\n",
    "        Splits the dataset into train and test set\n",
    "        Arguments:\n",
    "            X - The input feature matrix\n",
    "            y - The label column\n",
    "            undersample - Flag indicating if undersampling should be performed\n",
    "        Returns\n",
    "            The input features and labels splitted into train and test\n",
    "    \"\"\"\n",
    "    \n",
    "    # Split the data into train and test (70% Train - 30% Test, given we have a large amount of data) \n",
    "    X_train, X_test, y_train, y_test = train_test_split(X, y, stratify=y, random_state=42, test_size=0.30)\n",
    "    \n",
    "    if undersample:\n",
    "        # Instantiate random under sample\n",
    "        ru = RandomUnderSampler()\n",
    "        X_train, y_train = ru.fit_resample(X_train, y_train)\n",
    "        \n",
    "    return X_train, X_test, y_train, y_test\n",
    "\n",
    "\n",
    "# Perform the splits for all feature matrix of interest\n",
    "X_train, X_test, y_train, y_test = split_data(X, df[\"helpful_review\"])\n",
    "X_bi_train, X_bi_test, y_bi_train, y_bi_test = split_data(X_bigrams, df[\"helpful_review\"])\n",
    "\n",
    "X_sum_train, X_sum_test, y_sum_train, y_sum_test = split_data(X_summary, df[\"helpful_review\"])\n",
    "X_sum_bi_train, X_sum_bi_test, y_sum_bi_train, y_sum_bi_test = split_data(X_summary_bigrams, df[\"helpful_review\"])"
   ]
  },
  {
   "cell_type": "markdown",
   "metadata": {},
   "source": [
    "# Se tiver problema com o tamanho dos dados posso fazer PCA ou TSNE e ficar com essa dimensão reduzida"
   ]
  },
  {
   "cell_type": "code",
   "execution_count": 158,
   "metadata": {},
   "outputs": [
    {
     "data": {
      "text/plain": [
       "(28464, 150)"
      ]
     },
     "execution_count": 158,
     "metadata": {},
     "output_type": "execute_result"
    }
   ],
   "source": [
    "from sklearn.decomposition import TruncatedSVD, PCA\n",
    "from sklearn.manifold import TSNE\n",
    "\n",
    "X_embedded = TruncatedSVD(n_components=150, random_state=42).fit_transform(X_sum_train)\n",
    "X_embedded.shape"
   ]
  },
  {
   "cell_type": "code",
   "execution_count": 159,
   "metadata": {},
   "outputs": [
    {
     "data": {
      "text/plain": [
       "<matplotlib.axes._subplots.AxesSubplot at 0x23202d4e828>"
      ]
     },
     "execution_count": 159,
     "metadata": {},
     "output_type": "execute_result"
    },
    {
     "data": {
      "image/png": "[encoded data removed]",
      "text/plain": [
       "<Figure size 432x288 with 1 Axes>"
      ]
     },
     "metadata": {
      "needs_background": "light"
     },
     "output_type": "display_data"
    }
   ],
   "source": [
    "sns.scatterplot(x=X_embedded[:, 0], y=X_embedded[:, 1], hue=y_sum_train, alpha=0.5)"
   ]
  }
 ],
 "metadata": {
  "kernelspec": {
   "display_name": "Python 3",
   "language": "python",
   "name": "python3"
  },
  "language_info": {
   "codemirror_mode": {
    "name": "ipython",
    "version": 3
   },
   "file_extension": ".py",
   "mimetype": "text/x-python",
   "name": "python",
   "nbconvert_exporter": "python",
   "pygments_lexer": "ipython3",
   "version": "3.7.3"
  }
 },
 "nbformat": 4,
 "nbformat_minor": 2
}
