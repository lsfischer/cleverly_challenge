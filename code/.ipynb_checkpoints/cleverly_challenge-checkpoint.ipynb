{
 "cells": [
  {
   "cell_type": "markdown",
   "metadata": {},
   "source": [
    "# Cleverly Challenge\n",
    "\n",
    "This works as my submission of the cleverly challenge.\n",
    "The challenge consists in the [Amazon products review dataset](http://jmcauley.ucsd.edu/data/amazon/) (Clothing, Shoes and Jewlry)\n",
    "\n",
    "This dataset consists 278677 reviews about this types o items where each row in the dataset has the followng information:\n",
    "- reviewrID - ID of the reviewer (39387 unique values)\n",
    "- asin - ID of the product (23033 unique values)\n",
    "- reviewerName - name of the reviewer\n",
    "- helpful - a tuple containing the number of \"Yes\" votes, and the total number of votes\n",
    "- reviewText - The main body text of the review\n",
    "- overall - The rating the user gave the product\n",
    "- summary - A short summary of the review\n",
    "- UnixReviewTime - Unix timestamp of the review\n",
    "- reviewTime - Time of the review (raw)\n",
    "\n",
    "## Importante: \n",
    "- A Helpfullness é (\"Yes\" votes, total number of votes) então se calhar aqui tenho que fazer tipo a proporção de helpfulness, em que se calhar uma helpfull question é uma que tenha pelo menos 50% de votos sendo \"Yes\"\n",
    "- Hugging faces transformers requires TF 2.0 or pytorch\n",
    "- Tambem preciso de fazer aquilo de fazer download das cenas do nltk\n",
    "`import nltk; nltk.download('stopwords')`\n",
    "\n",
    "Posso tentar ver net promoter score dos produtos e fazer tipo um histogram disso (https://www.kaggle.com/shekhart47/research-and-predict-amazon-kindle este dataset tem ai isso)\n",
    "\n",
    "Ver quais é que são as palavras mais frequentes nem perguntas uteis (e em perguntas que tenham tipo rating de 5) (lembrar de tirar stopwords, fazer lemmantization, stemming, etc)\n",
    "    Posso fazer um wordcloud disto por exemplo\n",
    "    Ver também com o TF-IDF para conseguir perceber a \"novelty\" dessas palavras\n",
    "    \n",
    "Questions:\n",
    "\n",
    "Is there a correlation between rating of the product and helpfulness of review?\n",
    "    Aqui posso tentar 3 coisas:\n",
    "        - Tentar ver isto tambem com anova ? https://scikit-learn.org/stable/modules/feature_selection.html#univariate-feature-selection\n",
    "        \n",
    "Some more questions:\n",
    "- what are the most common words in helpfull/good reviews/products ?\n",
    "- Do good products have better reviews? (this should confirm the answer of the correlation\n",
    "- Are helpfull reviews longer or shorter?\n",
    "- Net promoter score stuff"
   ]
  },
  {
   "cell_type": "code",
   "execution_count": 115,
   "metadata": {
    "scrolled": true
   },
   "outputs": [
    {
     "name": "stdout",
     "output_type": "stream",
     "text": [
      "Collecting transformers\n",
      "  Downloading https://files.pythonhosted.org/packages/04/58/3d789b98923da6485f376be1e04d59ad7003a63bdb2b04b5eea7e02857e5/transformers-2.5.0-py3-none-any.whl (481kB)\n",
      "Requirement already satisfied: filelock in c:\\users\\lsfischer\\appdata\\local\\continuum2\\lib\\site-packages (from transformers) (3.0.12)\n",
      "Collecting sacremoses\n",
      "  Downloading https://files.pythonhosted.org/packages/a6/b4/7a41d630547a4afd58143597d5a49e07bfd4c42914d8335b2a5657efc14b/sacremoses-0.0.38.tar.gz (860kB)\n",
      "Requirement already satisfied: requests in c:\\users\\lsfischer\\appdata\\local\\continuum2\\lib\\site-packages (from transformers) (2.22.0)\n",
      "Collecting regex!=2019.12.17\n",
      "  Downloading https://files.pythonhosted.org/packages/93/af/1c066e9b98a06d82e26dc11b4197fa1fc7881e6b699f615acd41157a9082/regex-2020.2.18-cp37-cp37m-win_amd64.whl (271kB)\n",
      "Collecting boto3\n",
      "  Downloading https://files.pythonhosted.org/packages/dd/db/068ad4609d2cdfd628fe4dfd1966e732f8391918fd23485718b25efd5a92/boto3-1.12.3-py2.py3-none-any.whl (128kB)\n",
      "Requirement already satisfied: tqdm>=4.27 in c:\\users\\lsfischer\\appdata\\local\\continuum2\\lib\\site-packages (from transformers) (4.41.1)\n",
      "Collecting sentencepiece\n",
      "  Downloading https://files.pythonhosted.org/packages/61/c5/e7e2f45c076097ac1a58b21288be25ae4eb4044be899e6c04cd897a00f15/sentencepiece-0.1.85-cp37-cp37m-win_amd64.whl (1.2MB)\n",
      "Requirement already satisfied: numpy in c:\\users\\lsfischer\\appdata\\local\\continuum2\\lib\\site-packages (from transformers) (1.17.4)\n",
      "Collecting tokenizers==0.5.0\n",
      "  Downloading https://files.pythonhosted.org/packages/ec/e2/9e49ddc5527ed0920406daa99033c0bb0195d4618c14a34bffcafd19be8c/tokenizers-0.5.0-cp37-cp37m-win_amd64.whl (1.1MB)\n",
      "Requirement already satisfied: six in c:\\users\\lsfischer\\appdata\\local\\continuum2\\lib\\site-packages (from sacremoses->transformers) (1.13.0)\n",
      "Requirement already satisfied: click in c:\\users\\lsfischer\\appdata\\local\\continuum2\\lib\\site-packages (from sacremoses->transformers) (7.0)\n",
      "Requirement already satisfied: joblib in c:\\users\\lsfischer\\appdata\\local\\continuum2\\lib\\site-packages (from sacremoses->transformers) (0.14.1)\n",
      "Requirement already satisfied: urllib3!=1.25.0,!=1.25.1,<1.26,>=1.21.1 in c:\\users\\lsfischer\\appdata\\local\\continuum2\\lib\\site-packages (from requests->transformers) (1.25.7)\n",
      "Requirement already satisfied: certifi>=2017.4.17 in c:\\users\\lsfischer\\appdata\\local\\continuum2\\lib\\site-packages (from requests->transformers) (2019.11.28)\n",
      "Requirement already satisfied: idna<2.9,>=2.5 in c:\\users\\lsfischer\\appdata\\local\\continuum2\\lib\\site-packages (from requests->transformers) (2.8)\n",
      "Requirement already satisfied: chardet<3.1.0,>=3.0.2 in c:\\users\\lsfischer\\appdata\\local\\continuum2\\lib\\site-packages (from requests->transformers) (3.0.4)\n",
      "Collecting botocore<1.16.0,>=1.15.3\n",
      "  Downloading https://files.pythonhosted.org/packages/6f/c7/4a7174b08e3cf644782641325db9bbe5fb5087c21d92486e5a7fd7ad4c2e/botocore-1.15.3-py2.py3-none-any.whl (5.9MB)\n",
      "Collecting s3transfer<0.4.0,>=0.3.0\n",
      "  Downloading https://files.pythonhosted.org/packages/69/79/e6afb3d8b0b4e96cefbdc690f741d7dd24547ff1f94240c997a26fa908d3/s3transfer-0.3.3-py2.py3-none-any.whl (69kB)\n",
      "Collecting jmespath<1.0.0,>=0.7.1\n",
      "  Downloading https://files.pythonhosted.org/packages/83/94/7179c3832a6d45b266ddb2aac329e101367fbdb11f425f13771d27f225bb/jmespath-0.9.4-py2.py3-none-any.whl\n",
      "Requirement already satisfied: python-dateutil<3.0.0,>=2.1 in c:\\users\\lsfischer\\appdata\\local\\continuum2\\lib\\site-packages (from botocore<1.16.0,>=1.15.3->boto3->transformers) (2.8.1)\n",
      "Requirement already satisfied: docutils<0.16,>=0.10 in c:\\users\\lsfischer\\appdata\\local\\continuum2\\lib\\site-packages (from botocore<1.16.0,>=1.15.3->boto3->transformers) (0.15.2)\n",
      "Building wheels for collected packages: sacremoses\n",
      "  Building wheel for sacremoses (setup.py): started\n",
      "  Building wheel for sacremoses (setup.py): finished with status 'done'\n",
      "  Created wheel for sacremoses: filename=sacremoses-0.0.38-cp37-none-any.whl size=884633 sha256=c94fc80871328531f123627eed25b2ddb62c97d93193ec2cf316f5a1a1deb760\n",
      "  Stored in directory: C:\\Users\\lsfischer\\AppData\\Local\\pip\\Cache\\wheels\\6d\\ec\\1a\\21b8912e35e02741306f35f66c785f3afe94de754a0eaf1422\n",
      "Successfully built sacremoses\n",
      "Installing collected packages: regex, sacremoses, jmespath, botocore, s3transfer, boto3, sentencepiece, tokenizers, transformers\n",
      "Successfully installed boto3-1.12.3 botocore-1.15.3 jmespath-0.9.4 regex-2020.2.18 s3transfer-0.3.3 sacremoses-0.0.38 sentencepiece-0.1.85 tokenizers-0.5.0 transformers-2.5.0\n"
     ]
    }
   ],
   "source": [
    "# Install HuggingFace's transformer packages to use DistilBert\n",
    "!pip install transformers\n",
    "#!pip install tensorflow\n",
    "#!pip install torch\n",
    "#import nltk\n",
    "#nltk.download('stopwords')\n",
    "#nltk.download('punkt')"
   ]
  },
  {
   "cell_type": "code",
   "execution_count": 1,
   "metadata": {},
   "outputs": [
    {
     "name": "stderr",
     "output_type": "stream",
     "text": [
      "I0220 20:50:48.249598 140592964134720 file_utils.py:57] TensorFlow version 2.1.0 available.\n"
     ]
    },
    {
     "name": "stdout",
     "output_type": "stream",
     "text": [
      "(278677, 9)\n"
     ]
    },
    {
     "data": {
      "text/html": [
       "<div>\n",
       "<style scoped>\n",
       "    .dataframe tbody tr th:only-of-type {\n",
       "        vertical-align: middle;\n",
       "    }\n",
       "\n",
       "    .dataframe tbody tr th {\n",
       "        vertical-align: top;\n",
       "    }\n",
       "\n",
       "    .dataframe thead th {\n",
       "        text-align: right;\n",
       "    }\n",
       "</style>\n",
       "<table border=\"1\" class=\"dataframe\">\n",
       "  <thead>\n",
       "    <tr style=\"text-align: right;\">\n",
       "      <th></th>\n",
       "      <th>asin</th>\n",
       "      <th>helpful</th>\n",
       "      <th>overall</th>\n",
       "      <th>reviewText</th>\n",
       "      <th>reviewTime</th>\n",
       "      <th>reviewerID</th>\n",
       "      <th>reviewerName</th>\n",
       "      <th>summary</th>\n",
       "      <th>unixReviewTime</th>\n",
       "    </tr>\n",
       "  </thead>\n",
       "  <tbody>\n",
       "    <tr>\n",
       "      <th>0</th>\n",
       "      <td>0000031887</td>\n",
       "      <td>[0, 0]</td>\n",
       "      <td>5</td>\n",
       "      <td>This is a great tutu and at a really great pri...</td>\n",
       "      <td>02 12, 2011</td>\n",
       "      <td>A1KLRMWW2FWPL4</td>\n",
       "      <td>Amazon Customer \"cameramom\"</td>\n",
       "      <td>Great tutu-  not cheaply made</td>\n",
       "      <td>1297468800</td>\n",
       "    </tr>\n",
       "    <tr>\n",
       "      <th>1</th>\n",
       "      <td>0000031887</td>\n",
       "      <td>[0, 0]</td>\n",
       "      <td>5</td>\n",
       "      <td>I bought this for my 4 yr old daughter for dan...</td>\n",
       "      <td>01 19, 2013</td>\n",
       "      <td>A2G5TCU2WDFZ65</td>\n",
       "      <td>Amazon Customer</td>\n",
       "      <td>Very Cute!!</td>\n",
       "      <td>1358553600</td>\n",
       "    </tr>\n",
       "    <tr>\n",
       "      <th>2</th>\n",
       "      <td>0000031887</td>\n",
       "      <td>[0, 0]</td>\n",
       "      <td>5</td>\n",
       "      <td>What can I say... my daughters have it in oran...</td>\n",
       "      <td>01 4, 2013</td>\n",
       "      <td>A1RLQXYNCMWRWN</td>\n",
       "      <td>Carola</td>\n",
       "      <td>I have buy more than one</td>\n",
       "      <td>1357257600</td>\n",
       "    </tr>\n",
       "    <tr>\n",
       "      <th>3</th>\n",
       "      <td>0000031887</td>\n",
       "      <td>[0, 0]</td>\n",
       "      <td>5</td>\n",
       "      <td>We bought several tutus at once, and they are ...</td>\n",
       "      <td>04 27, 2014</td>\n",
       "      <td>A8U3FAMSJVHS5</td>\n",
       "      <td>Caromcg</td>\n",
       "      <td>Adorable, Sturdy</td>\n",
       "      <td>1398556800</td>\n",
       "    </tr>\n",
       "    <tr>\n",
       "      <th>4</th>\n",
       "      <td>0000031887</td>\n",
       "      <td>[0, 0]</td>\n",
       "      <td>5</td>\n",
       "      <td>Thank you Halo Heaven great product for Little...</td>\n",
       "      <td>03 15, 2014</td>\n",
       "      <td>A3GEOILWLK86XM</td>\n",
       "      <td>CJ</td>\n",
       "      <td>Grammy's Angels Love it</td>\n",
       "      <td>1394841600</td>\n",
       "    </tr>\n",
       "  </tbody>\n",
       "</table>\n",
       "</div>"
      ],
      "text/plain": [
       "         asin helpful  overall  \\\n",
       "0  0000031887  [0, 0]        5   \n",
       "1  0000031887  [0, 0]        5   \n",
       "2  0000031887  [0, 0]        5   \n",
       "3  0000031887  [0, 0]        5   \n",
       "4  0000031887  [0, 0]        5   \n",
       "\n",
       "                                          reviewText   reviewTime  \\\n",
       "0  This is a great tutu and at a really great pri...  02 12, 2011   \n",
       "1  I bought this for my 4 yr old daughter for dan...  01 19, 2013   \n",
       "2  What can I say... my daughters have it in oran...   01 4, 2013   \n",
       "3  We bought several tutus at once, and they are ...  04 27, 2014   \n",
       "4  Thank you Halo Heaven great product for Little...  03 15, 2014   \n",
       "\n",
       "       reviewerID                 reviewerName                        summary  \\\n",
       "0  A1KLRMWW2FWPL4  Amazon Customer \"cameramom\"  Great tutu-  not cheaply made   \n",
       "1  A2G5TCU2WDFZ65              Amazon Customer                    Very Cute!!   \n",
       "2  A1RLQXYNCMWRWN                       Carola       I have buy more than one   \n",
       "3   A8U3FAMSJVHS5                      Caromcg               Adorable, Sturdy   \n",
       "4  A3GEOILWLK86XM                           CJ        Grammy's Angels Love it   \n",
       "\n",
       "   unixReviewTime  \n",
       "0      1297468800  \n",
       "1      1358553600  \n",
       "2      1357257600  \n",
       "3      1398556800  \n",
       "4      1394841600  "
      ]
     },
     "execution_count": 1,
     "metadata": {},
     "output_type": "execute_result"
    }
   ],
   "source": [
    "# importing required libraries\n",
    "import ast # for evaluating string representation of lists\n",
    "import string\n",
    "import itertools # for chaining ranges \n",
    "import transformers # for using DistilBert\n",
    "import numpy as np\n",
    "import pandas as pd\n",
    "import seaborn as sns\n",
    "import matplotlib.pyplot as plt\n",
    "from nltk.corpus import stopwords\n",
    "from nltk.tokenize import word_tokenize\n",
    "\n",
    "# loading the dataset\n",
    "df = pd.read_csv(\"../data/Clothing_Shoes_and_Jewelry_5.csv\")\n",
    "\n",
    "# quick check of the data\n",
    "print(df.shape)\n",
    "df.head()"
   ]
  },
  {
   "cell_type": "markdown",
   "metadata": {},
   "source": [
    "# Preprocessing\n",
    "escrever aqui um bocadinho mais\n",
    "\n",
    "It is always good to first check on missing values so as to know if this might be a problem or not"
   ]
  },
  {
   "cell_type": "code",
   "execution_count": 2,
   "metadata": {},
   "outputs": [
    {
     "data": {
      "text/plain": [
       "asin                0\n",
       "helpful             0\n",
       "overall             0\n",
       "reviewText         24\n",
       "reviewTime          0\n",
       "reviewerID          0\n",
       "reviewerName      469\n",
       "summary             1\n",
       "unixReviewTime      0\n",
       "dtype: int64"
      ]
     },
     "execution_count": 2,
     "metadata": {},
     "output_type": "execute_result"
    }
   ],
   "source": [
    "df.isna().sum()"
   ]
  },
  {
   "cell_type": "markdown",
   "metadata": {},
   "source": [
    "There are few missing values in the dataset, with most of them beeing in the reviewers name, which we might even discard this feature so no harm done there.\n",
    "\n",
    "The `reviewText` column has 24 missing values (a small portion) which could just be discarded. However, looking at these rows we see that even though they don't have `reviewText` they still have the `summary` column, which we can still use to get some insight.\n",
    "\n",
    "Anyways we're going to replace this `NaN`'s with empty strings so we can interpret the entire column as a string. But first let's quickly convert the date column to a datetime object for easy manipulation"
   ]
  },
  {
   "cell_type": "code",
   "execution_count": 3,
   "metadata": {},
   "outputs": [],
   "source": [
    "# Convert unix timestamp to datetime object\n",
    "df[\"reviewTime\"] = pd.to_datetime(df[\"unixReviewTime\"], unit=\"s\")\n",
    "df.drop(\"unixReviewTime\", axis=1, inplace=True)\n",
    "\n",
    "# Checking the rows in which the reviewText is not present. They don't have reviewTime but they at least have the summary\n",
    "df.loc[df[\"reviewText\"].isna(), [\"reviewText\", \"summary\"]]"
   ]
  },
  {
   "cell_type": "markdown",
   "metadata": {},
   "source": [
    "Looking at this segment of the data we notice that the `reviewerName` of index 1806 has a non-ascii character. It might be best to remove this characters all together.\n",
    "\n",
    "Lets also remove punctiation and stopwords from `reviewText` and `summary`. Stopwords are those common words that don't really add much to the sentece (e.g. the, a, etc.). Lemmatization (e.g. transforming \"studying\" to \"study\") and stemming is not yet applied here although this could be tested to see if it improves results"
   ]
  },
  {
   "cell_type": "code",
   "execution_count": 5,
   "metadata": {},
   "outputs": [],
   "source": [
    "# This cell takes some time (around 1m30s) because in order to clean the sentence and remove the stopwords I'm iterating\n",
    "# over every word in the sentece to check if it is a stop-word. Maybe a better solution would be needed for larger texts\n",
    "\n",
    "# Replace NaN cells with empty strings\n",
    "df = df.fillna(\"\")\n",
    "\n",
    "# Specify the non-ascii characters. Non ascii chars go from 0-31 and from 128-256\n",
    "ascii_ranges = itertools.chain(range(32), range(128, 257))\n",
    "\n",
    "# Create a lookup table specifying that non-ascii chars should be translated to empty strings\n",
    "# This table will be fed to str.translate\n",
    "# str.translate uses C-level table lookup so it's much faster than iterating over every char and replacing them\n",
    "tbl = dict.fromkeys(ascii_ranges, u\"\")\n",
    "\n",
    "# Create the english stop_words set\n",
    "stop_words = set(stopwords.words('english'))\n",
    "\n",
    "def clean_sentence(s):\n",
    "    \"\"\"\n",
    "        Given a sentence remove its punctuation and stop words\n",
    "        \n",
    "        Arguments:\n",
    "            s - the input string to clean\n",
    "            \n",
    "        Returns: The input string stripped out of punctuation and stopwords\n",
    "    \"\"\"\n",
    "    s = s.lower().translate(tbl) # Remove non-ascii chars\n",
    "    s = s.translate(str.maketrans('','',string.punctuation)) # remove punctuation\n",
    "    tokens = word_tokenize(s)\n",
    "    cleaned_s = [w for w in tokens if w not in stop_words] # removing stop-words\n",
    "    return \" \".join(cleaned_s)\n",
    "\n",
    "# Apply clean_sentence to reviewText and summary; to reviewerName just remove non-ascii chars\n",
    "df[\"reviewText\"] = df[\"reviewText\"].apply(clean_sentence)\n",
    "df[\"summary\"] = df[\"summary\"].apply(clean_sentence)\n",
    "df[\"reviewerName\"] = df[\"reviewerName\"].str.translate(tbl)"
   ]
  },
  {
   "cell_type": "markdown",
   "metadata": {},
   "source": [
    "Let's also split up the helpfulness column into 3 different columns:\n",
    "    - `num_yes_votes`: Number of \"Yes\" votes\n",
    "    - `num_votes`: Total number of votes\n",
    "    - `prop_yes_votes`: Proportion of \"Yes\" votes in the reiview\n",
    "    \n",
    "The `helpful` column is stored as the string representation of a list (from beeing stored in a `.csv` file). We first need to convert back to a list and then split the values of the list\n",
    "\n",
    "Also add a new feature, `num_words`: the number of words present in the cleaned review text"
   ]
  },
  {
   "cell_type": "code",
   "execution_count": 6,
   "metadata": {},
   "outputs": [],
   "source": [
    "# Evaluating the string representation of the list to convert it to an actual list\n",
    "df[\"helpful\"] = df[\"helpful\"].apply(lambda str_list: ast.literal_eval(str_list))\n",
    "\n",
    "# Split the helpful column into num_yes_votes and num_votes\n",
    "# Splitting this way is faster the applying a fuction to every row to get the first and second element\n",
    "df[['num_yes_votes','num_votes']] = pd.DataFrame(df[\"helpful\"].values.tolist(), index= df.index)\n",
    "\n",
    "# Creating the prop_yes_votes columns. Where there is no votes just leave at zero (avoid dividing by zero)\n",
    "df[\"prop_yes_votes\"] = np.where(df[\"num_votes\"] == 0, 0, df[\"num_yes_votes\"] / df[\"num_votes\"])\n",
    "\n",
    "# Count the number of words in the body\n",
    "df[\"num_words\"] = df[\"reviewText\"].str.count(\"\\w+\")"
   ]
  },
  {
   "cell_type": "markdown",
   "metadata": {},
   "source": [
    "# Is there a correlation between the rating of the product and the helpfulness of the review?\n",
    "\n",
    "When checking the correlation between features we need to take care to assure that pearson correlation makes sense to use. Trying to correlate a variable with a non-ordinal categorical variable doesn't really make sense and co-occurrence should be preferred. However in our case `helpful` (either number of \"yes\" votes or proportion of \"yes\" votes) is a numerical variable and `overvall` is ordinal given it has some intrisct order to it (a ratting of 5 is higher than a ratting of 1)"
   ]
  },
  {
   "cell_type": "code",
   "execution_count": 90,
   "metadata": {},
   "outputs": [
    {
     "data": {
      "image/png": "[encoded data removed]",
      "text/plain": [
       "<Figure size 864x432 with 2 Axes>"
      ]
     },
     "metadata": {
      "needs_background": "light"
     },
     "output_type": "display_data"
    }
   ],
   "source": [
    "def plot_correlation_matrix(corr_matrix, plot_title=\"\"):\n",
    "    \"\"\"\n",
    "        Plot the lower triangle of the correlation matrix as a heatmap projection\n",
    "        Arguments:\n",
    "            corr_matrix: The correlation matrix to be plotted\n",
    "            plot_title: The title of the plot\n",
    "    \"\"\"\n",
    "    \n",
    "    # Generate a mask to hide the upper triangle of the matrix\n",
    "    mask = np.zeros_like(corr_matrix, dtype = np.bool)\n",
    "    mask[np.triu_indices_from(mask)] = True\n",
    "    \n",
    "    # plot the correalation matrix\n",
    "    plt.figure(figsize=(12,6))\n",
    "    sns.heatmap(corr_matrix, annot = True, cmap = sns.color_palette(\"Reds\", 11), mask=mask)\n",
    "    plt.title(plot_title)\n",
    "    plt.show()\n",
    "    \n",
    "correlation = df[[\"num_yes_votes\", \"num_votes\", \"prop_yes_votes\", \"num_words\", \"overall\"]].corr()\n",
    "plot_correlation_matrix(correlation, \n",
    "                        plot_title=\"At first, overall does not seem to be correlated with helpfulness\")"
   ]
  },
  {
   "cell_type": "code",
   "execution_count": 9,
   "metadata": {},
   "outputs": [
    {
     "data": {
      "text/plain": [
       "True     191656\n",
       "False     87021\n",
       "Name: num_votes, dtype: int64"
      ]
     },
     "execution_count": 9,
     "metadata": {},
     "output_type": "execute_result"
    }
   ],
   "source": [
    "(df[\"num_votes\"] == 0).value_counts()"
   ]
  },
  {
   "cell_type": "markdown",
   "metadata": {},
   "source": [
    "At first it does seem that the `overall` column is not really correlated in any way in the helpfulness of the review (ether it be the number of \"yes\" votes, the number of votes or the proportion of \"yes\" votes). However, 191656 reviews (68.77%) don't have a single vote, when we discard these reviews the correlation is different"
   ]
  },
  {
   "cell_type": "code",
   "execution_count": 77,
   "metadata": {},
   "outputs": [
    {
     "data": {
      "image/png": "[encoded data removed]",
      "text/plain": [
       "<Figure size 864x432 with 2 Axes>"
      ]
     },
     "metadata": {
      "needs_background": "light"
     },
     "output_type": "display_data"
    }
   ],
   "source": [
    "correlation_wout_zero_reviews = df.loc[df[\"num_votes\"] != 0, [\"num_yes_votes\", \"num_votes\", \"prop_yes_votes\", \"num_words\", \"overall\"]].corr()\n",
    "plot_correlation_matrix(correlation_wout_zero_reviews, \n",
    "                        plot_title=\"Looking at reviews with num_votes > 0, we see some correlation between overall and helpfulness\")"
   ]
  },
  {
   "cell_type": "markdown",
   "metadata": {},
   "source": [
    "When discarding reviews with no votes we see that there is a somewhat week correlation between `overall` and `prop_yes_votes`. This that the overall score is not really influenced by the number of \"yes\" votes, nor the total number of votes nor the number of words in the review. The overall score is, however, influenced by the proportion of \"yes\" votes the review have.\n",
    "\n",
    "An interesting point is the correlation between `num_yes_votes` and `num_votes`. It is obivous that this correlation should be positive (since `num_yes_votes` is a subset of `num_votes`) however it is interesting that it has such a high correlation. This indicates that an user only votes in a review if it was actually helpful to them, and if it was not then he/she probably just ignores it.\n",
    "\n",
    "## What is the median number of votes a review gets?"
   ]
  },
  {
   "cell_type": "code",
   "execution_count": 97,
   "metadata": {},
   "outputs": [
    {
     "data": {
      "image/png": "[encoded data removed]",
      "text/plain": [
       "<Figure size 864x432 with 1 Axes>"
      ]
     },
     "metadata": {
      "needs_background": "light"
     },
     "output_type": "display_data"
    }
   ],
   "source": [
    "# Number of non-zero votes reviews = 87021\n",
    "\n",
    "nonzero_votes_filtered = df.loc[(df[\"num_votes\"] > 0) & (df[\"num_votes\"] <= 50),  \"num_votes\"]\n",
    "# nonzero_votes_filtered.shape[0] -> 86379\n",
    "\n",
    "# 86379/87021 = 0.9926 -> 99% of non-zeros reviews have between 1 and 50 votes, so we can safely discard the rest for this analysis\n",
    "plt.figure(figsize=(12,6))\n",
    "sns.distplot(nonzero_votes_filtered)\n",
    "plt.axvline(x=nonzero_votes_filtered.median(), color=\"red\", ls=\"--\", label=f\"Median non-zero votes = {nonzero_votes_filtered.median()}\")\n",
    "plt.title(\"The number of votes is heavly left-skewed\")\n",
    "plt.legend()\n",
    "plt.show()"
   ]
  },
  {
   "cell_type": "markdown",
   "metadata": {},
   "source": [
    "Using the median is favoured over the average for skewed distributions such as this one because it is not as heavly influenced by outliers (extreme values)\n",
    "So the median number of votes a review genereally gets is 2. Given this we can consider a helpfull review to have a high proportion of \"yes\" votes (let's say above 0.5) and also have more than, for example, two times the number of median votes.\n",
    "\n",
    "Another possible way to find helpful reviews would be to for example weight the proportion of \"yes\" votes with the number of votes it has (`prop_yes_votes * num_votes`). All this approaches have some assumptions about them, picking one should be validated with stakeholders.\n",
    "\n",
    "For the binary target variable indicating if a reviewing is helpful or not we'll define it as having more than 4 votes and having more \"yes\" votes than \"not yes\" votes. (`prop_yes_votes` >= 0.5)"
   ]
  },
  {
   "cell_type": "code",
   "execution_count": 29,
   "metadata": {
    "scrolled": true
   },
   "outputs": [
    {
     "data": {
      "text/plain": [
       "0    256782\n",
       "1     21895\n",
       "Name: helpful_review, dtype: int64"
      ]
     },
     "execution_count": 29,
     "metadata": {},
     "output_type": "execute_result"
    }
   ],
   "source": [
    "# Creating the binary target label indicating if a review was helpful or not\n",
    "df[\"helpful_review\"] = ((df[\"num_votes\"] >= 4) & (df[\"prop_yes_votes\"] >= 0.5)).astype(int)\n",
    "df[\"helpful_review\"].value_counts()"
   ]
  },
  {
   "cell_type": "markdown",
   "metadata": {},
   "source": [
    "Only 7.857% are considered helpful according to our definition of helpful reviews. Alhtough there is still a large number of positive class observations the is some class imbalance and so accuracy should be discouraged as a model evaluation metric\n",
    "\n",
    "# Who are the most helpful reviewers?\n",
    "\n",
    "Here let's consider helpful reviewers those that have the highest proportion of \"yes\" votes and that have at least 4 votes."
   ]
  },
  {
   "cell_type": "code",
   "execution_count": 34,
   "metadata": {},
   "outputs": [
    {
     "data": {
      "text/html": [
       "<div>\n",
       "<style scoped>\n",
       "    .dataframe tbody tr th:only-of-type {\n",
       "        vertical-align: middle;\n",
       "    }\n",
       "\n",
       "    .dataframe tbody tr th {\n",
       "        vertical-align: top;\n",
       "    }\n",
       "\n",
       "    .dataframe thead th {\n",
       "        text-align: right;\n",
       "    }\n",
       "</style>\n",
       "<table border=\"1\" class=\"dataframe\">\n",
       "  <thead>\n",
       "    <tr style=\"text-align: right;\">\n",
       "      <th></th>\n",
       "      <th>reviewerName</th>\n",
       "      <th>reviewText</th>\n",
       "      <th>prop_yes_votes</th>\n",
       "      <th>num_yes_votes</th>\n",
       "      <th>num_votes</th>\n",
       "    </tr>\n",
       "  </thead>\n",
       "  <tbody>\n",
       "    <tr>\n",
       "      <th>28156</th>\n",
       "      <td>MariaSmiles</td>\n",
       "      <td>compartments designed read detailsthis thought...</td>\n",
       "      <td>1.0</td>\n",
       "      <td>239</td>\n",
       "      <td>239</td>\n",
       "    </tr>\n",
       "    <tr>\n",
       "      <th>104230</th>\n",
       "      <td>Libri Mundi \"Libri Mundi\"</td>\n",
       "      <td>us know pant size better hip circumference han...</td>\n",
       "      <td>1.0</td>\n",
       "      <td>227</td>\n",
       "      <td>227</td>\n",
       "    </tr>\n",
       "    <tr>\n",
       "      <th>81648</th>\n",
       "      <td>A. Marshall</td>\n",
       "      <td>trying decide doctors kit buy torn one fisher ...</td>\n",
       "      <td>1.0</td>\n",
       "      <td>154</td>\n",
       "      <td>154</td>\n",
       "    </tr>\n",
       "    <tr>\n",
       "      <th>111598</th>\n",
       "      <td>J L W</td>\n",
       "      <td>comfort king everything comes shoes beauty que...</td>\n",
       "      <td>1.0</td>\n",
       "      <td>117</td>\n",
       "      <td>117</td>\n",
       "    </tr>\n",
       "    <tr>\n",
       "      <th>79505</th>\n",
       "      <td>A. Buyer</td>\n",
       "      <td>update 51214 new purse arrived almost concerns...</td>\n",
       "      <td>1.0</td>\n",
       "      <td>109</td>\n",
       "      <td>109</td>\n",
       "    </tr>\n",
       "    <tr>\n",
       "      <th>115764</th>\n",
       "      <td>Multiple OS Runner</td>\n",
       "      <td>product info mention umbrella diameter 38 one ...</td>\n",
       "      <td>1.0</td>\n",
       "      <td>108</td>\n",
       "      <td>108</td>\n",
       "    </tr>\n",
       "    <tr>\n",
       "      <th>130772</th>\n",
       "      <td>Snehurka</td>\n",
       "      <td>ordered four different moving comfort bras im ...</td>\n",
       "      <td>1.0</td>\n",
       "      <td>107</td>\n",
       "      <td>107</td>\n",
       "    </tr>\n",
       "    <tr>\n",
       "      <th>65016</th>\n",
       "      <td>Leslie Ann Lewis</td>\n",
       "      <td>unlike reviewers walk paved road treadmill spe...</td>\n",
       "      <td>1.0</td>\n",
       "      <td>105</td>\n",
       "      <td>105</td>\n",
       "    </tr>\n",
       "    <tr>\n",
       "      <th>37103</th>\n",
       "      <td>Emily Hall</td>\n",
       "      <td>wrote positive review earlier im retracting co...</td>\n",
       "      <td>1.0</td>\n",
       "      <td>102</td>\n",
       "      <td>102</td>\n",
       "    </tr>\n",
       "    <tr>\n",
       "      <th>30345</th>\n",
       "      <td>Bunkster Brown</td>\n",
       "      <td>hanes cotton briefs always favorite undies wea...</td>\n",
       "      <td>1.0</td>\n",
       "      <td>98</td>\n",
       "      <td>98</td>\n",
       "    </tr>\n",
       "  </tbody>\n",
       "</table>\n",
       "</div>"
      ],
      "text/plain": [
       "                     reviewerName  \\\n",
       "28156                 MariaSmiles   \n",
       "104230  Libri Mundi \"Libri Mundi\"   \n",
       "81648                 A. Marshall   \n",
       "111598                      J L W   \n",
       "79505                    A. Buyer   \n",
       "115764         Multiple OS Runner   \n",
       "130772                   Snehurka   \n",
       "65016            Leslie Ann Lewis   \n",
       "37103                  Emily Hall   \n",
       "30345              Bunkster Brown   \n",
       "\n",
       "                                               reviewText  prop_yes_votes  \\\n",
       "28156   compartments designed read detailsthis thought...             1.0   \n",
       "104230  us know pant size better hip circumference han...             1.0   \n",
       "81648   trying decide doctors kit buy torn one fisher ...             1.0   \n",
       "111598  comfort king everything comes shoes beauty que...             1.0   \n",
       "79505   update 51214 new purse arrived almost concerns...             1.0   \n",
       "115764  product info mention umbrella diameter 38 one ...             1.0   \n",
       "130772  ordered four different moving comfort bras im ...             1.0   \n",
       "65016   unlike reviewers walk paved road treadmill spe...             1.0   \n",
       "37103   wrote positive review earlier im retracting co...             1.0   \n",
       "30345   hanes cotton briefs always favorite undies wea...             1.0   \n",
       "\n",
       "        num_yes_votes  num_votes  \n",
       "28156             239        239  \n",
       "104230            227        227  \n",
       "81648             154        154  \n",
       "111598            117        117  \n",
       "79505             109        109  \n",
       "115764            108        108  \n",
       "130772            107        107  \n",
       "65016             105        105  \n",
       "37103             102        102  \n",
       "30345              98         98  "
      ]
     },
     "execution_count": 34,
     "metadata": {},
     "output_type": "execute_result"
    }
   ],
   "source": [
    "df.loc[df[\"num_votes\"] >= 4, [\"reviewerName\", \"reviewText\", \"prop_yes_votes\", \"num_yes_votes\", \"num_votes\"]]\\\n",
    ".sort_values(by=[\"prop_yes_votes\", \"num_yes_votes\"], ascending=False)\\\n",
    ".head(10)"
   ]
  },
  {
   "cell_type": "markdown",
   "metadata": {},
   "source": [
    "MariaSmiles has the most helpful review in the dataset with 239 people agreeing :)"
   ]
  },
  {
   "cell_type": "markdown",
   "metadata": {},
   "source": [
    "# Are reviews getting more or less helpful over time?"
   ]
  },
  {
   "cell_type": "code",
   "execution_count": 107,
   "metadata": {},
   "outputs": [
    {
     "data": {
      "image/png": "[encoded data removed]",
      "text/plain": [
       "<Figure size 864x432 with 1 Axes>"
      ]
     },
     "metadata": {
      "needs_background": "light"
     },
     "output_type": "display_data"
    }
   ],
   "source": [
    "# Specify that we want a monthly period\n",
    "period = df[\"reviewTime\"].dt.to_period(freq=\"M\")\n",
    "\n",
    "# Group every year/month and get the mean of the specified variables\n",
    "grouped_data = df.groupby(period)[[\"prop_yes_votes\", \"num_yes_votes\", \"num_votes\", \"num_words\"]].mean()\n",
    "\n",
    "# Sort the index (which is the year/month)\n",
    "grouped_data = grouped_data.sort_index()\n",
    "\n",
    "plt.figure(figsize=(12, 6))\n",
    "sns.lineplot(x=grouped_data.index.year, y=grouped_data.prop_yes_votes)\n",
    "plt.title(\"The helpfulness of reviews seems to be going down, as so is its variance\")\n",
    "plt.show()"
   ]
  }
 ],
 "metadata": {
  "kernelspec": {
   "display_name": "Python 3",
   "language": "python",
   "name": "python3"
  },
  "language_info": {
   "codemirror_mode": {
    "name": "ipython",
    "version": 3
   },
   "file_extension": ".py",
   "mimetype": "text/x-python",
   "name": "python",
   "nbconvert_exporter": "python",
   "pygments_lexer": "ipython3",
   "version": "3.7.3"
  }
 },
 "nbformat": 4,
 "nbformat_minor": 2
}
